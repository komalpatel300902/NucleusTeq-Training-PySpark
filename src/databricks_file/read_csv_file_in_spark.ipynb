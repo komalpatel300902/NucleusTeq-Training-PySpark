{
 "cells": [
  {
   "cell_type": "code",
   "execution_count": 0,
   "metadata": {
    "application/vnd.databricks.v1+cell": {
     "cellMetadata": {
      "byteLimit": 2048000,
      "rowLimit": 10000
     },
     "inputWidgets": {},
     "nuid": "ba8fcb15-67c3-4aaf-afa3-7cd6940e854c",
     "showTitle": false,
     "title": ""
    }
   },
   "outputs": [
    {
     "output_type": "display_data",
     "data": {
      "text/html": [
       "\n",
       "            <div>\n",
       "                <p><b>SparkSession - hive</b></p>\n",
       "                \n",
       "        <div>\n",
       "            <p><b>SparkContext</b></p>\n",
       "\n",
       "            <p><a href=\"/?o=2529029068822991#setting/sparkui/0713-120343-pynlkh2z/driver-4971329869290752047\">Spark UI</a></p>\n",
       "\n",
       "            <dl>\n",
       "              <dt>Version</dt>\n",
       "                <dd><code>v3.3.2</code></dd>\n",
       "              <dt>Master</dt>\n",
       "                <dd><code>local[8]</code></dd>\n",
       "              <dt>AppName</dt>\n",
       "                <dd><code>Databricks Shell</code></dd>\n",
       "            </dl>\n",
       "        </div>\n",
       "        \n",
       "            </div>\n",
       "        "
      ]
     },
     "metadata": {
      "application/vnd.databricks.v1+output": {
       "addedWidgets": {},
       "arguments": {},
       "data": "\n            <div>\n                <p><b>SparkSession - hive</b></p>\n                \n        <div>\n            <p><b>SparkContext</b></p>\n\n            <p><a href=\"/?o=2529029068822991#setting/sparkui/0713-120343-pynlkh2z/driver-4971329869290752047\">Spark UI</a></p>\n\n            <dl>\n              <dt>Version</dt>\n                <dd><code>v3.3.2</code></dd>\n              <dt>Master</dt>\n                <dd><code>local[8]</code></dd>\n              <dt>AppName</dt>\n                <dd><code>Databricks Shell</code></dd>\n            </dl>\n        </div>\n        \n            </div>\n        ",
       "datasetInfos": [],
       "metadata": {},
       "removedWidgets": [],
       "textData": null,
       "type": "htmlSandbox"
      }
     },
     "output_type": "display_data"
    }
   ],
   "source": [
    "spark"
   ]
  },
  {
   "cell_type": "code",
   "execution_count": 0,
   "metadata": {
    "application/vnd.databricks.v1+cell": {
     "cellMetadata": {
      "byteLimit": 2048000,
      "rowLimit": 10000
     },
     "inputWidgets": {},
     "nuid": "2d17d2f7-1d84-4d1f-907d-9e3c057b03bd",
     "showTitle": false,
     "title": ""
    }
   },
   "outputs": [],
   "source": [
    "flight_df = spark.read.format('csv')\\\n",
    "    .option(\"header\",\"false\")\\\n",
    "    .option(\"inferschema\",\"false\")\\\n",
    "    .option('mode',\"FAILFAST\")\\\n",
    "    .load(\"/FileStore/tables/flight_data_hive.csv\")"
   ]
  },
  {
   "cell_type": "code",
   "execution_count": 0,
   "metadata": {
    "application/vnd.databricks.v1+cell": {
     "cellMetadata": {
      "byteLimit": 2048000,
      "rowLimit": 10000
     },
     "inputWidgets": {},
     "nuid": "64bc81ef-b1fe-4f13-9835-16a52239ee95",
     "showTitle": false,
     "title": ""
    }
   },
   "outputs": [
    {
     "output_type": "stream",
     "name": "stdout",
     "output_type": "stream",
     "text": [
      "+--------------------+----------------+---+\n|                 _c0|             _c1|_c2|\n+--------------------+----------------+---+\n|       United States|         Romania| 15|\n|       United States|         Croatia|  1|\n|       United States|         Ireland|344|\n|               Egypt|   United States| 15|\n|       United States|           India| 62|\n|       United States|       Singapore|  1|\n|       United States|         Grenada| 62|\n|          Costa Rica|   United States|588|\n|             Senegal|   United States| 40|\n|             Moldova|   United States|  1|\n|       United States|    Sint Maarten|325|\n|       United States|Marshall Islands| 39|\n|              Guyana|   United States| 64|\n|               Malta|   United States|  1|\n|            Anguilla|   United States| 41|\n|             Bolivia|   United States| 30|\n|       United States|        Paraguay|  6|\n|             Algeria|   United States|  4|\n|Turks and Caicos ...|   United States|230|\n|       United States|       Gibraltar|  1|\n+--------------------+----------------+---+\nonly showing top 20 rows\n\n"
     ]
    }
   ],
   "source": [
    "flight_df.show()"
   ]
  },
  {
   "cell_type": "code",
   "execution_count": 0,
   "metadata": {
    "application/vnd.databricks.v1+cell": {
     "cellMetadata": {
      "byteLimit": 2048000,
      "rowLimit": 10000
     },
     "inputWidgets": {},
     "nuid": "5c0fa0d1-b69f-475a-9156-ad0ed7142cb5",
     "showTitle": false,
     "title": ""
    }
   },
   "outputs": [
    {
     "output_type": "stream",
     "name": "stdout",
     "output_type": "stream",
     "text": [
      "root\n |-- _c0: string (nullable = true)\n |-- _c1: string (nullable = true)\n |-- _c2: string (nullable = true)\n\n"
     ]
    }
   ],
   "source": [
    "flight_df.printSchema()"
   ]
  },
  {
   "cell_type": "markdown",
   "metadata": {
    "application/vnd.databricks.v1+cell": {
     "cellMetadata": {
      "byteLimit": 2048000,
      "rowLimit": 10000
     },
     "inputWidgets": {},
     "nuid": "145e8e50-48e9-47ab-b966-3a89f2043174",
     "showTitle": false,
     "title": ""
    }
   },
   "source": [
    "### With header On\n"
   ]
  },
  {
   "cell_type": "code",
   "execution_count": 0,
   "metadata": {
    "application/vnd.databricks.v1+cell": {
     "cellMetadata": {
      "byteLimit": 2048000,
      "rowLimit": 10000
     },
     "inputWidgets": {},
     "nuid": "b0341a16-057c-4493-b213-ce4dd959486f",
     "showTitle": false,
     "title": ""
    }
   },
   "outputs": [],
   "source": [
    "flight_df_header_on = spark.read.format('csv')\\\n",
    "    .option(\"header\",\"true\")\\\n",
    "    .option(\"inferschema\",\"false\")\\\n",
    "    .option('mode',\"FAILFAST\")\\\n",
    "    .load(\"/FileStore/tables/flight_data_hive.csv\")"
   ]
  },
  {
   "cell_type": "code",
   "execution_count": 0,
   "metadata": {
    "application/vnd.databricks.v1+cell": {
     "cellMetadata": {
      "byteLimit": 2048000,
      "rowLimit": 10000
     },
     "inputWidgets": {},
     "nuid": "726ab945-7317-4815-915b-35b859d0aa71",
     "showTitle": false,
     "title": ""
    }
   },
   "outputs": [
    {
     "output_type": "stream",
     "name": "stdout",
     "output_type": "stream",
     "text": [
      "+--------------------+----------------+---+\n|       United States|         Romania| 15|\n+--------------------+----------------+---+\n|       United States|         Croatia|  1|\n|       United States|         Ireland|344|\n|               Egypt|   United States| 15|\n|       United States|           India| 62|\n|       United States|       Singapore|  1|\n|       United States|         Grenada| 62|\n|          Costa Rica|   United States|588|\n|             Senegal|   United States| 40|\n|             Moldova|   United States|  1|\n|       United States|    Sint Maarten|325|\n|       United States|Marshall Islands| 39|\n|              Guyana|   United States| 64|\n|               Malta|   United States|  1|\n|            Anguilla|   United States| 41|\n|             Bolivia|   United States| 30|\n|       United States|        Paraguay|  6|\n|             Algeria|   United States|  4|\n|Turks and Caicos ...|   United States|230|\n|       United States|       Gibraltar|  1|\n|Saint Vincent and...|   United States|  1|\n+--------------------+----------------+---+\nonly showing top 20 rows\n\n"
     ]
    }
   ],
   "source": [
    "flight_df_header_on.show()"
   ]
  },
  {
   "cell_type": "code",
   "execution_count": 0,
   "metadata": {
    "application/vnd.databricks.v1+cell": {
     "cellMetadata": {
      "byteLimit": 2048000,
      "rowLimit": 10000
     },
     "inputWidgets": {},
     "nuid": "cd2dc820-89ee-4993-819e-c072bef9adee",
     "showTitle": false,
     "title": ""
    }
   },
   "outputs": [
    {
     "output_type": "stream",
     "name": "stdout",
     "output_type": "stream",
     "text": [
      "root\n |-- United States: string (nullable = true)\n |-- Romania: string (nullable = true)\n |-- 15: string (nullable = true)\n\n"
     ]
    }
   ],
   "source": [
    "flight_df_header_on.printSchema()"
   ]
  },
  {
   "cell_type": "markdown",
   "metadata": {
    "application/vnd.databricks.v1+cell": {
     "cellMetadata": {
      "byteLimit": 2048000,
      "rowLimit": 10000
     },
     "inputWidgets": {},
     "nuid": "c0fcfe01-761e-4d05-8277-9ecddb4439c4",
     "showTitle": false,
     "title": ""
    }
   },
   "source": [
    "### With Inferschema On\n"
   ]
  },
  {
   "cell_type": "code",
   "execution_count": 0,
   "metadata": {
    "application/vnd.databricks.v1+cell": {
     "cellMetadata": {
      "byteLimit": 2048000,
      "rowLimit": 10000
     },
     "inputWidgets": {},
     "nuid": "20d319ed-19a7-4689-9070-65950af12e26",
     "showTitle": false,
     "title": ""
    }
   },
   "outputs": [],
   "source": [
    "flight_df_inferschema_on = spark.read.format('csv')\\\n",
    "    .option(\"header\",\"false\")\\\n",
    "    .option(\"inferschema\",\"true\")\\\n",
    "    .option('mode',\"FAILFAST\")\\\n",
    "    .load(\"/FileStore/tables/flight_data_hive.csv\")"
   ]
  },
  {
   "cell_type": "code",
   "execution_count": 0,
   "metadata": {
    "application/vnd.databricks.v1+cell": {
     "cellMetadata": {
      "byteLimit": 2048000,
      "rowLimit": 10000
     },
     "inputWidgets": {},
     "nuid": "3ed46b14-0cf1-4c4c-990c-8213beabf00d",
     "showTitle": false,
     "title": ""
    }
   },
   "outputs": [
    {
     "output_type": "stream",
     "name": "stdout",
     "output_type": "stream",
     "text": [
      "root\n |-- _c0: string (nullable = true)\n |-- _c1: string (nullable = true)\n |-- _c2: string (nullable = true)\n\n"
     ]
    }
   ],
   "source": [
    "flight_df_inferschema_on.printSchema() \n",
    "# Here i am getting string instead of integer for column _c2"
   ]
  },
  {
   "cell_type": "markdown",
   "metadata": {
    "application/vnd.databricks.v1+cell": {
     "cellMetadata": {
      "byteLimit": 2048000,
      "rowLimit": 10000
     },
     "inputWidgets": {},
     "nuid": "a705dea6-535a-4048-a031-7327b063997d",
     "showTitle": false,
     "title": ""
    }
   },
   "source": [
    "### Another way to read Files"
   ]
  },
  {
   "cell_type": "code",
   "execution_count": 0,
   "metadata": {
    "application/vnd.databricks.v1+cell": {
     "cellMetadata": {
      "byteLimit": 2048000,
      "rowLimit": 10000
     },
     "inputWidgets": {},
     "nuid": "d9894531-937c-43b0-9b8a-e9390a79dff4",
     "showTitle": false,
     "title": ""
    }
   },
   "outputs": [],
   "source": [
    "df = spark.read.csv(\"/FileStore/tables/flight_data_hive.csv\")"
   ]
  },
  {
   "cell_type": "code",
   "execution_count": 0,
   "metadata": {
    "application/vnd.databricks.v1+cell": {
     "cellMetadata": {
      "byteLimit": 2048000,
      "rowLimit": 10000
     },
     "inputWidgets": {},
     "nuid": "62733f9f-e45c-40b4-9d27-2583a39fb0d9",
     "showTitle": false,
     "title": ""
    }
   },
   "outputs": [
    {
     "output_type": "stream",
     "name": "stdout",
     "output_type": "stream",
     "text": [
      "+--------------------+----------------+---+\n|                 _c0|             _c1|_c2|\n+--------------------+----------------+---+\n|       United States|         Romania| 15|\n|       United States|         Croatia|  1|\n|       United States|         Ireland|344|\n|               Egypt|   United States| 15|\n|       United States|           India| 62|\n|       United States|       Singapore|  1|\n|       United States|         Grenada| 62|\n|          Costa Rica|   United States|588|\n|             Senegal|   United States| 40|\n|             Moldova|   United States|  1|\n|       United States|    Sint Maarten|325|\n|       United States|Marshall Islands| 39|\n|              Guyana|   United States| 64|\n|               Malta|   United States|  1|\n|            Anguilla|   United States| 41|\n|             Bolivia|   United States| 30|\n|       United States|        Paraguay|  6|\n|             Algeria|   United States|  4|\n|Turks and Caicos ...|   United States|230|\n|       United States|       Gibraltar|  1|\n+--------------------+----------------+---+\nonly showing top 20 rows\n\n"
     ]
    }
   ],
   "source": [
    "df.show()"
   ]
  },
  {
   "cell_type": "code",
   "execution_count": 0,
   "metadata": {
    "application/vnd.databricks.v1+cell": {
     "cellMetadata": {
      "byteLimit": 2048000,
      "rowLimit": 10000
     },
     "inputWidgets": {},
     "nuid": "e89bafa0-e4dc-47c6-996f-ea3c282dde4d",
     "showTitle": false,
     "title": ""
    }
   },
   "outputs": [
    {
     "output_type": "stream",
     "name": "stdout",
     "output_type": "stream",
     "text": [
      "root\n |-- _c0: string (nullable = true)\n |-- _c1: string (nullable = true)\n |-- _c2: string (nullable = true)\n\n"
     ]
    }
   ],
   "source": [
    "df.printSchema()"
   ]
  },
  {
   "cell_type": "code",
   "execution_count": 0,
   "metadata": {
    "application/vnd.databricks.v1+cell": {
     "cellMetadata": {
      "byteLimit": 2048000,
      "rowLimit": 10000
     },
     "inputWidgets": {},
     "nuid": "5e7ed2e2-ff79-4ceb-b9d7-f49847fbe352",
     "showTitle": false,
     "title": ""
    }
   },
   "outputs": [],
   "source": [
    "df_header = spark.read.csv(path = \"/FileStore/tables/flight_data_hive.csv\", header= True , inferSchema = False)"
   ]
  },
  {
   "cell_type": "code",
   "execution_count": 0,
   "metadata": {
    "application/vnd.databricks.v1+cell": {
     "cellMetadata": {
      "byteLimit": 2048000,
      "rowLimit": 10000
     },
     "inputWidgets": {},
     "nuid": "0adc5b51-e60f-40a3-94ef-6c46f5e83353",
     "showTitle": false,
     "title": ""
    }
   },
   "outputs": [
    {
     "output_type": "stream",
     "name": "stdout",
     "output_type": "stream",
     "text": [
      "+--------------------+----------------+---+\n|       United States|         Romania| 15|\n+--------------------+----------------+---+\n|       United States|         Croatia|  1|\n|       United States|         Ireland|344|\n|               Egypt|   United States| 15|\n|       United States|           India| 62|\n|       United States|       Singapore|  1|\n|       United States|         Grenada| 62|\n|          Costa Rica|   United States|588|\n|             Senegal|   United States| 40|\n|             Moldova|   United States|  1|\n|       United States|    Sint Maarten|325|\n|       United States|Marshall Islands| 39|\n|              Guyana|   United States| 64|\n|               Malta|   United States|  1|\n|            Anguilla|   United States| 41|\n|             Bolivia|   United States| 30|\n|       United States|        Paraguay|  6|\n|             Algeria|   United States|  4|\n|Turks and Caicos ...|   United States|230|\n|       United States|       Gibraltar|  1|\n|Saint Vincent and...|   United States|  1|\n+--------------------+----------------+---+\nonly showing top 20 rows\n\n"
     ]
    }
   ],
   "source": [
    "df_header.show()"
   ]
  },
  {
   "cell_type": "code",
   "execution_count": 0,
   "metadata": {
    "application/vnd.databricks.v1+cell": {
     "cellMetadata": {
      "byteLimit": 2048000,
      "rowLimit": 10000
     },
     "inputWidgets": {},
     "nuid": "7e72c662-5461-4728-8942-0827f043f294",
     "showTitle": false,
     "title": ""
    }
   },
   "outputs": [
    {
     "output_type": "stream",
     "name": "stdout",
     "output_type": "stream",
     "text": [
      "root\n |-- United States: string (nullable = true)\n |-- Romania: string (nullable = true)\n |-- 15: string (nullable = true)\n\n"
     ]
    }
   ],
   "source": [
    "df_header.printSchema()"
   ]
  },
  {
   "cell_type": "code",
   "execution_count": 0,
   "metadata": {
    "application/vnd.databricks.v1+cell": {
     "cellMetadata": {
      "byteLimit": 2048000,
      "rowLimit": 10000
     },
     "inputWidgets": {},
     "nuid": "117d7ada-3199-4948-ae81-95d67a557504",
     "showTitle": false,
     "title": ""
    }
   },
   "outputs": [],
   "source": [
    "df_header_inferschema = spark.read.csv(path = \"/FileStore/tables/flight_data_hive.csv\", header = True , inferSchema = True)"
   ]
  },
  {
   "cell_type": "code",
   "execution_count": 0,
   "metadata": {
    "application/vnd.databricks.v1+cell": {
     "cellMetadata": {
      "byteLimit": 2048000,
      "rowLimit": 10000
     },
     "inputWidgets": {},
     "nuid": "18c93614-6ef5-479e-a5a3-1c50478f64f7",
     "showTitle": false,
     "title": ""
    }
   },
   "outputs": [
    {
     "output_type": "stream",
     "name": "stdout",
     "output_type": "stream",
     "text": [
      "+--------------------+----------------+---+\n|       United States|         Romania| 15|\n+--------------------+----------------+---+\n|       United States|         Croatia|  1|\n|       United States|         Ireland|344|\n|               Egypt|   United States| 15|\n|       United States|           India| 62|\n|       United States|       Singapore|  1|\n|       United States|         Grenada| 62|\n|          Costa Rica|   United States|588|\n|             Senegal|   United States| 40|\n|             Moldova|   United States|  1|\n|       United States|    Sint Maarten|325|\n|       United States|Marshall Islands| 39|\n|              Guyana|   United States| 64|\n|               Malta|   United States|  1|\n|            Anguilla|   United States| 41|\n|             Bolivia|   United States| 30|\n|       United States|        Paraguay|  6|\n|             Algeria|   United States|  4|\n|Turks and Caicos ...|   United States|230|\n|       United States|       Gibraltar|  1|\n|Saint Vincent and...|   United States|  1|\n+--------------------+----------------+---+\nonly showing top 20 rows\n\n"
     ]
    }
   ],
   "source": [
    "df_header_inferschema.show()"
   ]
  },
  {
   "cell_type": "code",
   "execution_count": 0,
   "metadata": {
    "application/vnd.databricks.v1+cell": {
     "cellMetadata": {
      "byteLimit": 2048000,
      "rowLimit": 10000
     },
     "inputWidgets": {},
     "nuid": "018563ad-7034-4594-93bf-79fec4e3f4bd",
     "showTitle": false,
     "title": ""
    }
   },
   "outputs": [
    {
     "output_type": "stream",
     "name": "stdout",
     "output_type": "stream",
     "text": [
      "root\n |-- United States: string (nullable = true)\n |-- Romania: string (nullable = true)\n |-- 15: string (nullable = true)\n\n"
     ]
    }
   ],
   "source": [
    "df_header_inferschema.printSchema()"
   ]
  },
  {
   "cell_type": "code",
   "execution_count": 0,
   "metadata": {
    "application/vnd.databricks.v1+cell": {
     "cellMetadata": {},
     "inputWidgets": {},
     "nuid": "66fdca98-d633-499a-b50b-e6a0e1475b20",
     "showTitle": false,
     "title": ""
    }
   },
   "outputs": [],
   "source": []
  }
 ],
 "metadata": {
  "application/vnd.databricks.v1+notebook": {
   "dashboards": [],
   "environmentMetadata": null,
   "language": "python",
   "notebookMetadata": {
    "pythonIndentUnit": 4
   },
   "notebookName": "read_csv_file_in_spark",
   "widgets": {}
  }
 },
 "nbformat": 4,
 "nbformat_minor": 0
}
