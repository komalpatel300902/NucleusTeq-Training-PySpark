{
 "cells": [
  {
   "cell_type": "markdown",
   "metadata": {
    "application/vnd.databricks.v1+cell": {
     "cellMetadata": {},
     "inputWidgets": {},
     "nuid": "c3bf3f34-fea0-4ddb-af38-ba6aad76b695",
     "showTitle": false,
     "title": ""
    }
   },
   "source": [
    "### Creating Schema"
   ]
  },
  {
   "cell_type": "markdown",
   "metadata": {
    "application/vnd.databricks.v1+cell": {
     "cellMetadata": {},
     "inputWidgets": {},
     "nuid": "31676406-bd16-40f0-8864-5332ea4df0d7",
     "showTitle": false,
     "title": ""
    }
   },
   "source": [
    "#### There are 2 types of schema\n",
    "1. StructField and StructField\n",
    "1. DDL"
   ]
  },
  {
   "cell_type": "code",
   "execution_count": 0,
   "metadata": {
    "application/vnd.databricks.v1+cell": {
     "cellMetadata": {
      "byteLimit": 2048000,
      "rowLimit": 10000
     },
     "inputWidgets": {},
     "nuid": "7f3db9f8-031d-426d-a902-0496f98b8dd4",
     "showTitle": false,
     "title": ""
    }
   },
   "outputs": [],
   "source": [
    "from pyspark.sql.types import StructType, StructField, StringType, IntegerType\n",
    "my_schema = StructType([\n",
    "    StructField(\"city_I\",StringType(),True),\n",
    "    StructField(\"city_II\",StringType(),True),\n",
    "    StructField(\"city_III\",IntegerType(),True)\n",
    "])"
   ]
  },
  {
   "cell_type": "code",
   "execution_count": 0,
   "metadata": {
    "application/vnd.databricks.v1+cell": {
     "cellMetadata": {
      "byteLimit": 2048000,
      "rowLimit": 10000
     },
     "inputWidgets": {},
     "nuid": "8946771d-9951-4978-91fa-a30d30b23c98",
     "showTitle": false,
     "title": ""
    }
   },
   "outputs": [],
   "source": [
    "df = spark.read.csv(path = \"/FileStore/tables/flight_data_hive.csv\",schema = my_schema)"
   ]
  },
  {
   "cell_type": "code",
   "execution_count": 0,
   "metadata": {
    "application/vnd.databricks.v1+cell": {
     "cellMetadata": {
      "byteLimit": 2048000,
      "rowLimit": 10000
     },
     "inputWidgets": {},
     "nuid": "2db28324-a9d4-4219-ac1c-2a7ca788c668",
     "showTitle": false,
     "title": ""
    }
   },
   "outputs": [
    {
     "output_type": "stream",
     "name": "stdout",
     "output_type": "stream",
     "text": [
      "root\n |-- city_I: string (nullable = true)\n |-- city_II: string (nullable = true)\n |-- city_III: integer (nullable = true)\n\n"
     ]
    }
   ],
   "source": [
    "df.printSchema()"
   ]
  },
  {
   "cell_type": "code",
   "execution_count": 0,
   "metadata": {
    "application/vnd.databricks.v1+cell": {
     "cellMetadata": {
      "byteLimit": 2048000,
      "rowLimit": 10000
     },
     "inputWidgets": {},
     "nuid": "f2c5a220-a04a-4c1e-b24e-cefb9e78368d",
     "showTitle": false,
     "title": ""
    }
   },
   "outputs": [
    {
     "output_type": "stream",
     "name": "stdout",
     "output_type": "stream",
     "text": [
      "+--------------------+----------------+--------+\n|              city_I|         city_II|city_III|\n+--------------------+----------------+--------+\n|       United States|         Romania|      15|\n|       United States|         Croatia|       1|\n|       United States|         Ireland|     344|\n|               Egypt|   United States|      15|\n|       United States|           India|      62|\n|       United States|       Singapore|       1|\n|       United States|         Grenada|      62|\n|          Costa Rica|   United States|     588|\n|             Senegal|   United States|      40|\n|             Moldova|   United States|       1|\n|       United States|    Sint Maarten|     325|\n|       United States|Marshall Islands|      39|\n|              Guyana|   United States|      64|\n|               Malta|   United States|       1|\n|            Anguilla|   United States|      41|\n|             Bolivia|   United States|      30|\n|       United States|        Paraguay|       6|\n|             Algeria|   United States|       4|\n|Turks and Caicos ...|   United States|     230|\n|       United States|       Gibraltar|       1|\n+--------------------+----------------+--------+\nonly showing top 20 rows\n\n"
     ]
    }
   ],
   "source": [
    "df.show()"
   ]
  },
  {
   "cell_type": "markdown",
   "metadata": {
    "application/vnd.databricks.v1+cell": {
     "cellMetadata": {},
     "inputWidgets": {},
     "nuid": "e9e28cd4-b199-460b-b3d3-0cb22bb7a516",
     "showTitle": false,
     "title": ""
    }
   },
   "source": [
    "### DDL"
   ]
  },
  {
   "cell_type": "code",
   "execution_count": 0,
   "metadata": {
    "application/vnd.databricks.v1+cell": {
     "cellMetadata": {
      "byteLimit": 2048000,
      "rowLimit": 10000
     },
     "inputWidgets": {},
     "nuid": "aeff8d4b-2d29-4d71-afe9-85da2e6875e8",
     "showTitle": false,
     "title": ""
    }
   },
   "outputs": [],
   "source": [
    "df = spark.read.csv(path = \"/FileStore/tables/flight_data_hive.csv\", schema = \"city_I string  , City_II string , num integer\")"
   ]
  },
  {
   "cell_type": "code",
   "execution_count": 0,
   "metadata": {
    "application/vnd.databricks.v1+cell": {
     "cellMetadata": {
      "byteLimit": 2048000,
      "rowLimit": 10000
     },
     "inputWidgets": {},
     "nuid": "bb9fcf85-298d-42ea-b356-ad7b63f95599",
     "showTitle": false,
     "title": ""
    }
   },
   "outputs": [
    {
     "output_type": "stream",
     "name": "stdout",
     "output_type": "stream",
     "text": [
      "root\n |-- city_I: string (nullable = true)\n |-- City_II: string (nullable = true)\n |-- num: integer (nullable = true)\n\n"
     ]
    }
   ],
   "source": [
    "df.printSchema()"
   ]
  },
  {
   "cell_type": "code",
   "execution_count": 0,
   "metadata": {
    "application/vnd.databricks.v1+cell": {
     "cellMetadata": {},
     "inputWidgets": {},
     "nuid": "6ae73064-bf12-4810-998b-7a2d36eb9b09",
     "showTitle": false,
     "title": ""
    }
   },
   "outputs": [],
   "source": []
  }
 ],
 "metadata": {
  "application/vnd.databricks.v1+notebook": {
   "dashboards": [],
   "environmentMetadata": null,
   "language": "python",
   "notebookMetadata": {
    "pythonIndentUnit": 4
   },
   "notebookName": "schema_creation",
   "widgets": {}
  }
 },
 "nbformat": 4,
 "nbformat_minor": 0
}
