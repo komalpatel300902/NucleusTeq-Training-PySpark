{
 "cells": [
  {
   "cell_type": "code",
   "execution_count": 0,
   "metadata": {
    "application/vnd.databricks.v1+cell": {
     "cellMetadata": {
      "byteLimit": 2048000,
      "rowLimit": 10000
     },
     "inputWidgets": {},
     "nuid": "26a7f03d-968d-4eef-a59d-7e2d7c1c999a",
     "showTitle": false,
     "title": ""
    }
   },
   "outputs": [
    {
     "output_type": "display_data",
     "data": {
      "text/html": [
       "\n",
       "            <div>\n",
       "                <p><b>SparkSession - hive</b></p>\n",
       "                \n",
       "        <div>\n",
       "            <p><b>SparkContext</b></p>\n",
       "\n",
       "            <p><a href=\"/?o=2529029068822991#setting/sparkui/0715-122718-5ene06g5/driver-5549281876948063874\">Spark UI</a></p>\n",
       "\n",
       "            <dl>\n",
       "              <dt>Version</dt>\n",
       "                <dd><code>v3.3.2</code></dd>\n",
       "              <dt>Master</dt>\n",
       "                <dd><code>local[8]</code></dd>\n",
       "              <dt>AppName</dt>\n",
       "                <dd><code>Databricks Shell</code></dd>\n",
       "            </dl>\n",
       "        </div>\n",
       "        \n",
       "            </div>\n",
       "        "
      ]
     },
     "metadata": {
      "application/vnd.databricks.v1+output": {
       "addedWidgets": {},
       "arguments": {},
       "data": "\n            <div>\n                <p><b>SparkSession - hive</b></p>\n                \n        <div>\n            <p><b>SparkContext</b></p>\n\n            <p><a href=\"/?o=2529029068822991#setting/sparkui/0715-122718-5ene06g5/driver-5549281876948063874\">Spark UI</a></p>\n\n            <dl>\n              <dt>Version</dt>\n                <dd><code>v3.3.2</code></dd>\n              <dt>Master</dt>\n                <dd><code>local[8]</code></dd>\n              <dt>AppName</dt>\n                <dd><code>Databricks Shell</code></dd>\n            </dl>\n        </div>\n        \n            </div>\n        ",
       "datasetInfos": [],
       "metadata": {},
       "removedWidgets": [],
       "textData": null,
       "type": "htmlSandbox"
      }
     },
     "output_type": "display_data"
    }
   ],
   "source": [
    "spark"
   ]
  },
  {
   "cell_type": "code",
   "execution_count": 0,
   "metadata": {
    "application/vnd.databricks.v1+cell": {
     "cellMetadata": {
      "byteLimit": 2048000,
      "rowLimit": 10000
     },
     "inputWidgets": {},
     "nuid": "a6b640e0-70f1-4e8a-b55e-c6ec99cdaa78",
     "showTitle": false,
     "title": ""
    }
   },
   "outputs": [],
   "source": [
    "df = spark.read.csv(path = \"/FileStore/tables/employee_records.csv\", header = True, inferSchema = True)"
   ]
  },
  {
   "cell_type": "code",
   "execution_count": 0,
   "metadata": {
    "application/vnd.databricks.v1+cell": {
     "cellMetadata": {
      "byteLimit": 2048000,
      "rowLimit": 10000
     },
     "inputWidgets": {},
     "nuid": "844ea900-1daa-4eab-848c-54055c7c2e10",
     "showTitle": false,
     "title": ""
    }
   },
   "outputs": [
    {
     "output_type": "stream",
     "name": "stdout",
     "output_type": "stream",
     "text": [
      "root\n |-- name: string (nullable = true)\n |-- age: integer (nullable = true)\n |-- gender: string (nullable = true)\n |-- country: string (nullable = true)\n |-- emp_type: string (nullable = true)\n\n"
     ]
    }
   ],
   "source": [
    "df.printSchema()"
   ]
  },
  {
   "cell_type": "markdown",
   "metadata": {
    "application/vnd.databricks.v1+cell": {
     "cellMetadata": {},
     "inputWidgets": {},
     "nuid": "3b78b7e4-cc7c-44d1-bc3d-7d12ec302a63",
     "showTitle": false,
     "title": ""
    }
   },
   "source": [
    "#### Partition"
   ]
  },
  {
   "cell_type": "code",
   "execution_count": 0,
   "metadata": {
    "application/vnd.databricks.v1+cell": {
     "cellMetadata": {
      "byteLimit": 2048000,
      "rowLimit": 10000
     },
     "inputWidgets": {},
     "nuid": "911064ad-ccea-42a9-b765-7c8e759bbc1d",
     "showTitle": false,
     "title": ""
    }
   },
   "outputs": [
    {
     "output_type": "stream",
     "name": "stdout",
     "output_type": "stream",
     "text": [
      "+--------+---+------+---------+--------+\n|    name|age|gender|  country|emp_type|\n+--------+---+------+---------+--------+\n|    John| 34|  Male|   Brazil|   admin|\n|    Liam| 46|  Male|    China|employee|\n|Isabella| 38|  Male|    Japan|   admin|\n| William| 43|  Male|    India|   admin|\n|   James| 49|Female|   Brazil| manager|\n|     Ava| 35|Female|   Canada|employee|\n|    Noah| 57|  Male|   France|   admin|\n|  Sophia| 25|Female|  Germany|employee|\n|     Ava| 23|  Male|   Canada|employee|\n|    Emma| 36|  Male|    Japan| manager|\n|    Emma| 27|Female|       UK| manager|\n|     Ava| 50|  Male|      USA| manager|\n|    Emma| 54|  Male|    China| manager|\n|   James| 43|  Male|       UK|employee|\n|Isabella| 50|Female|  Germany|employee|\n|  Olivia| 52|Female|       UK| manager|\n| William| 50|Female|    Japan|   admin|\n| William| 21|  Male|   France|employee|\n|    Noah| 28|  Male|Australia| manager|\n|    Liam| 25|Female|    Japan|   admin|\n+--------+---+------+---------+--------+\nonly showing top 20 rows\n\n"
     ]
    }
   ],
   "source": [
    "df.show()"
   ]
  },
  {
   "cell_type": "code",
   "execution_count": 0,
   "metadata": {
    "application/vnd.databricks.v1+cell": {
     "cellMetadata": {
      "byteLimit": 2048000,
      "rowLimit": 10000
     },
     "inputWidgets": {},
     "nuid": "23e2f664-7ecc-4a2b-bf18-c9db36ae6141",
     "showTitle": false,
     "title": ""
    }
   },
   "outputs": [],
   "source": [
    "df.write.format(\"csv\")\\\n",
    "    .option(\"header\",\"true\")\\\n",
    "    .option(\"mode\",\"overwrite\")\\\n",
    "    .partitionBy(\"gender\")\\\n",
    "    .save(path = \"/FileStore/tables/partitioned_employee_dataset\")"
   ]
  },
  {
   "cell_type": "code",
   "execution_count": 0,
   "metadata": {
    "application/vnd.databricks.v1+cell": {
     "cellMetadata": {
      "byteLimit": 2048000,
      "rowLimit": 10000
     },
     "inputWidgets": {},
     "nuid": "b1954e40-1f90-45e5-adce-775ac8ddda48",
     "showTitle": false,
     "title": ""
    }
   },
   "outputs": [
    {
     "output_type": "display_data",
     "data": {
      "text/html": [
       "<style scoped>\n",
       "  .table-result-container {\n",
       "    max-height: 300px;\n",
       "    overflow: auto;\n",
       "  }\n",
       "  table, th, td {\n",
       "    border: 1px solid black;\n",
       "    border-collapse: collapse;\n",
       "  }\n",
       "  th, td {\n",
       "    padding: 5px;\n",
       "  }\n",
       "  th {\n",
       "    text-align: left;\n",
       "  }\n",
       "</style><div class='table-result-container'><table class='table-result'><thead style='background-color: white'><tr><th>path</th><th>name</th><th>size</th><th>modificationTime</th></tr></thead><tbody><tr><td>dbfs:/FileStore/tables/partitioned_employee_dataset/gender=Female/_SUCCESS</td><td>_SUCCESS</td><td>0</td><td>1721047133000</td></tr><tr><td>dbfs:/FileStore/tables/partitioned_employee_dataset/gender=Female/_committed_1583854544283189852</td><td>_committed_1583854544283189852</td><td>111</td><td>1721047133000</td></tr><tr><td>dbfs:/FileStore/tables/partitioned_employee_dataset/gender=Female/_started_1583854544283189852</td><td>_started_1583854544283189852</td><td>0</td><td>1721047132000</td></tr><tr><td>dbfs:/FileStore/tables/partitioned_employee_dataset/gender=Female/part-00000-tid-1583854544283189852-367a5bb8-7318-49cb-aed8-f94a2968167f-3-1.c000.csv</td><td>part-00000-tid-1583854544283189852-367a5bb8-7318-49cb-aed8-f94a2968167f-3-1.c000.csv</td><td>1287</td><td>1721047132000</td></tr></tbody></table></div>"
      ]
     },
     "metadata": {
      "application/vnd.databricks.v1+output": {
       "addedWidgets": {},
       "aggData": [],
       "aggError": "",
       "aggOverflow": false,
       "aggSchema": [],
       "aggSeriesLimitReached": false,
       "aggType": "",
       "arguments": {},
       "columnCustomDisplayInfos": {},
       "data": [
        [
         "dbfs:/FileStore/tables/partitioned_employee_dataset/gender=Female/_SUCCESS",
         "_SUCCESS",
         0,
         1721047133000
        ],
        [
         "dbfs:/FileStore/tables/partitioned_employee_dataset/gender=Female/_committed_1583854544283189852",
         "_committed_1583854544283189852",
         111,
         1721047133000
        ],
        [
         "dbfs:/FileStore/tables/partitioned_employee_dataset/gender=Female/_started_1583854544283189852",
         "_started_1583854544283189852",
         0,
         1721047132000
        ],
        [
         "dbfs:/FileStore/tables/partitioned_employee_dataset/gender=Female/part-00000-tid-1583854544283189852-367a5bb8-7318-49cb-aed8-f94a2968167f-3-1.c000.csv",
         "part-00000-tid-1583854544283189852-367a5bb8-7318-49cb-aed8-f94a2968167f-3-1.c000.csv",
         1287,
         1721047132000
        ]
       ],
       "datasetInfos": [],
       "dbfsResultPath": null,
       "isJsonSchema": true,
       "metadata": {
        "isDbfsCommandResult": false
       },
       "overflow": false,
       "plotOptions": {
        "customPlotOptions": {},
        "displayType": "table",
        "pivotAggregation": null,
        "pivotColumns": null,
        "xColumns": null,
        "yColumns": null
       },
       "removedWidgets": [],
       "schema": [
        {
         "metadata": "{}",
         "name": "path",
         "type": "\"string\""
        },
        {
         "metadata": "{}",
         "name": "name",
         "type": "\"string\""
        },
        {
         "metadata": "{}",
         "name": "size",
         "type": "\"long\""
        },
        {
         "metadata": "{}",
         "name": "modificationTime",
         "type": "\"long\""
        }
       ],
       "type": "table"
      }
     },
     "output_type": "display_data"
    }
   ],
   "source": [
    "%fs\n",
    "ls FileStore/tables/partitioned_employee_dataset/gender=Female/"
   ]
  },
  {
   "cell_type": "code",
   "execution_count": 0,
   "metadata": {
    "application/vnd.databricks.v1+cell": {
     "cellMetadata": {
      "byteLimit": 2048000,
      "rowLimit": 10000
     },
     "inputWidgets": {},
     "nuid": "f7251d3c-73b6-4713-88f8-39badd7ac7d4",
     "showTitle": false,
     "title": ""
    }
   },
   "outputs": [
    {
     "output_type": "stream",
     "name": "stdout",
     "output_type": "stream",
     "text": [
      "+--------+---+---------+--------+\n|    name|age|  country|emp_type|\n+--------+---+---------+--------+\n|   James| 49|   Brazil| manager|\n|     Ava| 35|   Canada|employee|\n|  Sophia| 25|  Germany|employee|\n|    Emma| 27|       UK| manager|\n|Isabella| 50|  Germany|employee|\n|  Olivia| 52|       UK| manager|\n| William| 50|    Japan|   admin|\n|    Liam| 25|    Japan|   admin|\n|    John| 34|   Brazil| manager|\n| William| 20|   Brazil| manager|\n|    John| 40|    China| manager|\n| William| 51|    China|employee|\n|    Noah| 44|   France|employee|\n|   James| 26|    Japan|   admin|\n|Isabella| 54|       UK|employee|\n|    John| 56|    China|   admin|\n|    Liam| 54|   Brazil| manager|\n|Isabella| 56|   Brazil| manager|\n| William| 41|   Canada|   admin|\n|    Emma| 58|Australia| manager|\n|     Ava| 60|   France| manager|\n|Isabella| 30|   France|employee|\n| William| 35|   Canada| manager|\n|     Ava| 26|   Brazil|   admin|\n|  Sophia| 34|    Japan|   admin|\n| William| 40|    China|   admin|\n| William| 41|  Germany| manager|\n| William| 21|Australia| manager|\n|Isabella| 59|   Canada|employee|\n|    Emma| 40|    India|employee|\n|Isabella| 21|   Canada|   admin|\n|    Emma| 35|   France|employee|\n|  Olivia| 47|   Brazil|   admin|\n|  Olivia| 59|    India| manager|\n|   James| 46|       UK|   admin|\n|Isabella| 25|    Japan|employee|\n|Isabella| 22|  Germany|   admin|\n|    Noah| 44|    China|   admin|\n|  Olivia| 39|   Brazil|employee|\n|    John| 55|    China|   admin|\n|Isabella| 41|    India|   admin|\n| William| 57|Australia| manager|\n|    John| 21|   France|   admin|\n| William| 39|   Brazil|   admin|\n|   James| 30|Australia| manager|\n|    Emma| 45|    Japan|   admin|\n| William| 33|   France| manager|\n|  Olivia| 58|Australia|   admin|\n|    Emma| 26|      USA| manager|\n|    Emma| 53|    Japan| manager|\n|    Noah| 37|  Germany| manager|\n|    Noah| 53|   Canada| manager|\n|  Olivia| 30|    China|   admin|\n+--------+---+---------+--------+\n\n"
     ]
    }
   ],
   "source": [
    "path_for_female_dataset = r\"/FileStore/tables/partitioned_employee_dataset/gender=Female/part-00000-tid-1583854544283189852-367a5bb8-7318-49cb-aed8-f94a2968167f-3-1.c000.csv\"\n",
    "df = spark.read\\\n",
    "    .option(\"header\",\"true\")\\\n",
    "    .option(\"inferschema\",\"true\")\\\n",
    "    .csv(path = path_for_female_dataset)\n",
    "df.show(n = 100)"
   ]
  },
  {
   "cell_type": "markdown",
   "metadata": {
    "application/vnd.databricks.v1+cell": {
     "cellMetadata": {},
     "inputWidgets": {},
     "nuid": "43565d47-3202-414c-847f-51e9d210da33",
     "showTitle": false,
     "title": ""
    }
   },
   "source": [
    "#### Bucketing"
   ]
  },
  {
   "cell_type": "code",
   "execution_count": 0,
   "metadata": {
    "application/vnd.databricks.v1+cell": {
     "cellMetadata": {
      "byteLimit": 2048000,
      "rowLimit": 10000
     },
     "inputWidgets": {},
     "nuid": "56ed481c-be5d-4cf1-80d3-f9fe32a70e6e",
     "showTitle": false,
     "title": ""
    }
   },
   "outputs": [],
   "source": [
    "df = spark.read.option(\"header\",\"true\")\\\n",
    "    .option(\"inferschema\",\"true\")\\\n",
    "    .csv(path = \"/FileStore/tables/employee_records.csv\")"
   ]
  },
  {
   "cell_type": "code",
   "execution_count": 0,
   "metadata": {
    "application/vnd.databricks.v1+cell": {
     "cellMetadata": {
      "byteLimit": 2048000,
      "rowLimit": 10000
     },
     "inputWidgets": {},
     "nuid": "bb688f1e-25e5-4bb9-bbf9-f1211062f0a9",
     "showTitle": false,
     "title": ""
    }
   },
   "outputs": [
    {
     "output_type": "stream",
     "name": "stdout",
     "output_type": "stream",
     "text": [
      "+--------+---+------+---------+--------+\n|    name|age|gender|  country|emp_type|\n+--------+---+------+---------+--------+\n|    John| 34|  Male|   Brazil|   admin|\n|    Liam| 46|  Male|    China|employee|\n|Isabella| 38|  Male|    Japan|   admin|\n| William| 43|  Male|    India|   admin|\n|   James| 49|Female|   Brazil| manager|\n|     Ava| 35|Female|   Canada|employee|\n|    Noah| 57|  Male|   France|   admin|\n|  Sophia| 25|Female|  Germany|employee|\n|     Ava| 23|  Male|   Canada|employee|\n|    Emma| 36|  Male|    Japan| manager|\n|    Emma| 27|Female|       UK| manager|\n|     Ava| 50|  Male|      USA| manager|\n|    Emma| 54|  Male|    China| manager|\n|   James| 43|  Male|       UK|employee|\n|Isabella| 50|Female|  Germany|employee|\n|  Olivia| 52|Female|       UK| manager|\n| William| 50|Female|    Japan|   admin|\n| William| 21|  Male|   France|employee|\n|    Noah| 28|  Male|Australia| manager|\n|    Liam| 25|Female|    Japan|   admin|\n|    John| 34|Female|   Brazil| manager|\n|    John| 60|  Male|    Japan|   admin|\n| William| 20|Female|   Brazil| manager|\n|    John| 40|Female|    China| manager|\n|    Noah| 46|  Male|       UK| manager|\n|  Olivia| 55|  Male|  Germany| manager|\n|    Noah| 38|  Male|    China|employee|\n| William| 51|Female|    China|employee|\n|    Emma| 39|  Male|   France| manager|\n|    Noah| 44|Female|   France|employee|\n|   James| 26|Female|    Japan|   admin|\n|Isabella| 54|Female|       UK|employee|\n|    Noah| 48|  Male|   Canada| manager|\n|     Ava| 26|  Male|       UK| manager|\n|     Ava| 43|  Male|    India|employee|\n|    Liam| 32|  Male|    China|   admin|\n|    John| 56|Female|    China|   admin|\n|    Noah| 52|  Male|    China|employee|\n|    Liam| 54|Female|   Brazil| manager|\n| William| 30|  Male|    India|   admin|\n|Isabella| 56|Female|   Brazil| manager|\n|  Olivia| 25|  Male|   Brazil|employee|\n|    Emma| 47|  Male|   Canada| manager|\n| William| 41|Female|   Canada|   admin|\n| William| 49|  Male|    India|employee|\n|    Emma| 58|Female|Australia| manager|\n|     Ava| 60|Female|   France| manager|\n|Isabella| 30|Female|   France|employee|\n| William| 35|Female|   Canada| manager|\n|  Sophia| 29|  Male|  Germany|   admin|\n|  Sophia| 48|  Male|      USA| manager|\n|     Ava| 26|Female|   Brazil|   admin|\n|  Sophia| 42|  Male|   France| manager|\n|  Sophia| 48|  Male|   France|employee|\n|  Sophia| 34|Female|    Japan|   admin|\n| William| 40|Female|    China|   admin|\n|     Ava| 55|  Male|   Brazil|employee|\n|    Emma| 37|  Male|Australia|employee|\n|  Olivia| 49|  Male|   Brazil|employee|\n| William| 41|Female|  Germany| manager|\n| William| 21|Female|Australia| manager|\n|  Olivia| 59|  Male|   France|employee|\n|Isabella| 59|Female|   Canada|employee|\n|    Emma| 40|Female|    India|employee|\n|    John| 54|  Male|Australia|   admin|\n|Isabella| 21|Female|   Canada|   admin|\n|    Emma| 35|Female|   France|employee|\n|  Olivia| 47|Female|   Brazil|   admin|\n|  Olivia| 59|Female|    India| manager|\n|    John| 26|  Male|   France|   admin|\n|   James| 46|Female|       UK|   admin|\n|Isabella| 25|Female|    Japan|employee|\n| William| 30|  Male|   Brazil|   admin|\n|Isabella| 22|Female|  Germany|   admin|\n|    Noah| 44|Female|    China|   admin|\n|  Olivia| 39|Female|   Brazil|employee|\n|    John| 55|Female|    China|   admin|\n|    Noah| 32|  Male|    Japan|   admin|\n|Isabella| 41|Female|    India|   admin|\n| William| 57|Female|Australia| manager|\n|   James| 48|  Male|  Germany|employee|\n|    John| 21|Female|   France|   admin|\n| William| 39|Female|   Brazil|   admin|\n|   James| 30|Female|Australia| manager|\n|    Emma| 45|Female|    Japan|   admin|\n| William| 33|Female|   France| manager|\n|    Liam| 55|  Male|    Japan|employee|\n|  Olivia| 58|Female|Australia|   admin|\n|  Sophia| 22|  Male|  Germany|employee|\n| William| 24|  Male|    India|   admin|\n|    Emma| 49|  Male|Australia| manager|\n|    Emma| 26|Female|      USA| manager|\n|     Ava| 34|  Male|    India|   admin|\n|    Emma| 53|Female|    Japan| manager|\n|    Noah| 37|Female|  Germany| manager|\n| William| 44|  Male|    Japan| manager|\n|    Noah| 53|Female|   Canada| manager|\n|    Noah| 51|  Male|   Canada|   admin|\n|     Ava| 26|  Male|   Brazil|employee|\n|  Olivia| 30|Female|    China|   admin|\n+--------+---+------+---------+--------+\n\n"
     ]
    }
   ],
   "source": [
    "df.show(100)"
   ]
  },
  {
   "cell_type": "code",
   "execution_count": 0,
   "metadata": {
    "application/vnd.databricks.v1+cell": {
     "cellMetadata": {
      "byteLimit": 2048000,
      "rowLimit": 10000
     },
     "inputWidgets": {},
     "nuid": "f2221259-b3a4-408a-a640-4d1b5d73496b",
     "showTitle": false,
     "title": ""
    }
   },
   "outputs": [],
   "source": [
    "df.write\\\n",
    "    .format(\"csv\")\\\n",
    "    .option(\"header\",\"true\")\\\n",
    "    .option(\"mode\",\"overwrite\")\\\n",
    "    .option(\"path\",\"/FileStore/tables/bucket_by_division/\")\\\n",
    "    .bucketBy(2,\"emp_type\")\\\n",
    "    .saveAsTable(\"bucket_division\")"
   ]
  },
  {
   "cell_type": "code",
   "execution_count": 0,
   "metadata": {
    "application/vnd.databricks.v1+cell": {
     "cellMetadata": {
      "byteLimit": 2048000,
      "rowLimit": 10000
     },
     "inputWidgets": {},
     "nuid": "fc8d46fd-1252-4247-b612-3e9a792b04fb",
     "showTitle": false,
     "title": ""
    }
   },
   "outputs": [
    {
     "output_type": "display_data",
     "data": {
      "text/html": [
       "<style scoped>\n",
       "  .table-result-container {\n",
       "    max-height: 300px;\n",
       "    overflow: auto;\n",
       "  }\n",
       "  table, th, td {\n",
       "    border: 1px solid black;\n",
       "    border-collapse: collapse;\n",
       "  }\n",
       "  th, td {\n",
       "    padding: 5px;\n",
       "  }\n",
       "  th {\n",
       "    text-align: left;\n",
       "  }\n",
       "</style><div class='table-result-container'><table class='table-result'><thead style='background-color: white'><tr><th>path</th><th>name</th><th>size</th><th>modificationTime</th></tr></thead><tbody><tr><td>dbfs:/FileStore/tables/bucket_by_division/_SUCCESS</td><td>_SUCCESS</td><td>0</td><td>1721050592000</td></tr><tr><td>dbfs:/FileStore/tables/bucket_by_division/_committed_8648901029701791816</td><td>_committed_8648901029701791816</td><td>212</td><td>1721050592000</td></tr><tr><td>dbfs:/FileStore/tables/bucket_by_division/_started_8648901029701791816</td><td>_started_8648901029701791816</td><td>0</td><td>1721050592000</td></tr><tr><td>dbfs:/FileStore/tables/bucket_by_division/part-00000-tid-8648901029701791816-f57a438f-7dbc-4837-922a-e56ed2616ef1-19-1_00000.c000.csv</td><td>part-00000-tid-8648901029701791816-f57a438f-7dbc-4837-922a-e56ed2616ef1-19-1_00000.c000.csv</td><td>2003</td><td>1721050592000</td></tr><tr><td>dbfs:/FileStore/tables/bucket_by_division/part-00000-tid-8648901029701791816-f57a438f-7dbc-4837-922a-e56ed2616ef1-19-2_00001.c000.csv</td><td>part-00000-tid-8648901029701791816-f57a438f-7dbc-4837-922a-e56ed2616ef1-19-2_00001.c000.csv</td><td>1018</td><td>1721050592000</td></tr></tbody></table></div>"
      ]
     },
     "metadata": {
      "application/vnd.databricks.v1+output": {
       "addedWidgets": {},
       "aggData": [],
       "aggError": "",
       "aggOverflow": false,
       "aggSchema": [],
       "aggSeriesLimitReached": false,
       "aggType": "",
       "arguments": {},
       "columnCustomDisplayInfos": {},
       "data": [
        [
         "dbfs:/FileStore/tables/bucket_by_division/_SUCCESS",
         "_SUCCESS",
         0,
         1721050592000
        ],
        [
         "dbfs:/FileStore/tables/bucket_by_division/_committed_8648901029701791816",
         "_committed_8648901029701791816",
         212,
         1721050592000
        ],
        [
         "dbfs:/FileStore/tables/bucket_by_division/_started_8648901029701791816",
         "_started_8648901029701791816",
         0,
         1721050592000
        ],
        [
         "dbfs:/FileStore/tables/bucket_by_division/part-00000-tid-8648901029701791816-f57a438f-7dbc-4837-922a-e56ed2616ef1-19-1_00000.c000.csv",
         "part-00000-tid-8648901029701791816-f57a438f-7dbc-4837-922a-e56ed2616ef1-19-1_00000.c000.csv",
         2003,
         1721050592000
        ],
        [
         "dbfs:/FileStore/tables/bucket_by_division/part-00000-tid-8648901029701791816-f57a438f-7dbc-4837-922a-e56ed2616ef1-19-2_00001.c000.csv",
         "part-00000-tid-8648901029701791816-f57a438f-7dbc-4837-922a-e56ed2616ef1-19-2_00001.c000.csv",
         1018,
         1721050592000
        ]
       ],
       "datasetInfos": [],
       "dbfsResultPath": null,
       "isJsonSchema": true,
       "metadata": {
        "isDbfsCommandResult": false
       },
       "overflow": false,
       "plotOptions": {
        "customPlotOptions": {},
        "displayType": "table",
        "pivotAggregation": null,
        "pivotColumns": null,
        "xColumns": null,
        "yColumns": null
       },
       "removedWidgets": [],
       "schema": [
        {
         "metadata": "{}",
         "name": "path",
         "type": "\"string\""
        },
        {
         "metadata": "{}",
         "name": "name",
         "type": "\"string\""
        },
        {
         "metadata": "{}",
         "name": "size",
         "type": "\"long\""
        },
        {
         "metadata": "{}",
         "name": "modificationTime",
         "type": "\"long\""
        }
       ],
       "type": "table"
      }
     },
     "output_type": "display_data"
    }
   ],
   "source": [
    "%fs\n",
    "ls /FileStore/tables/bucket_by_division/"
   ]
  },
  {
   "cell_type": "code",
   "execution_count": 0,
   "metadata": {
    "application/vnd.databricks.v1+cell": {
     "cellMetadata": {
      "byteLimit": 2048000,
      "rowLimit": 10000
     },
     "inputWidgets": {},
     "nuid": "8cb2d730-3593-4f7f-a28c-97ce094b5b3b",
     "showTitle": false,
     "title": ""
    }
   },
   "outputs": [],
   "source": [
    "df_part1 = spark.read\\\n",
    "    .option(\"header\",\"true\")\\\n",
    "    .option(\"inferschema\",\"true\")\\\n",
    "    .csv(path = \"/FileStore/tables/bucket_by_division/part-00000-tid-8648901029701791816-f57a438f-7dbc-4837-922a-e56ed2616ef1-19-1_00000.c000.csv\")"
   ]
  },
  {
   "cell_type": "code",
   "execution_count": 0,
   "metadata": {
    "application/vnd.databricks.v1+cell": {
     "cellMetadata": {
      "byteLimit": 2048000,
      "rowLimit": 10000
     },
     "inputWidgets": {},
     "nuid": "69e6c965-68d6-4e49-a460-47bdf7461dad",
     "showTitle": false,
     "title": ""
    }
   },
   "outputs": [
    {
     "output_type": "stream",
     "name": "stdout",
     "output_type": "stream",
     "text": [
      "+--------+---+------+---------+--------+\n|    name|age|gender|  country|emp_type|\n+--------+---+------+---------+--------+\n|    Liam| 46|  Male|    China|employee|\n|   James| 49|Female|   Brazil| manager|\n|     Ava| 35|Female|   Canada|employee|\n|  Sophia| 25|Female|  Germany|employee|\n|     Ava| 23|  Male|   Canada|employee|\n|    Emma| 36|  Male|    Japan| manager|\n|    Emma| 27|Female|       UK| manager|\n|     Ava| 50|  Male|      USA| manager|\n|    Emma| 54|  Male|    China| manager|\n|   James| 43|  Male|       UK|employee|\n|Isabella| 50|Female|  Germany|employee|\n|  Olivia| 52|Female|       UK| manager|\n| William| 21|  Male|   France|employee|\n|    Noah| 28|  Male|Australia| manager|\n|    John| 34|Female|   Brazil| manager|\n| William| 20|Female|   Brazil| manager|\n|    John| 40|Female|    China| manager|\n|    Noah| 46|  Male|       UK| manager|\n|  Olivia| 55|  Male|  Germany| manager|\n|    Noah| 38|  Male|    China|employee|\n+--------+---+------+---------+--------+\nonly showing top 20 rows\n\n"
     ]
    }
   ],
   "source": [
    "df_part1.show()"
   ]
  },
  {
   "cell_type": "code",
   "execution_count": 0,
   "metadata": {
    "application/vnd.databricks.v1+cell": {
     "cellMetadata": {
      "byteLimit": 2048000,
      "rowLimit": 10000
     },
     "inputWidgets": {},
     "nuid": "a28e193d-4f6f-40dd-af88-919252fe73d1",
     "showTitle": false,
     "title": ""
    }
   },
   "outputs": [
    {
     "output_type": "stream",
     "name": "stdout",
     "output_type": "stream",
     "text": [
      "Out[24]: 65"
     ]
    }
   ],
   "source": [
    "df_part1.count()"
   ]
  },
  {
   "cell_type": "code",
   "execution_count": 0,
   "metadata": {
    "application/vnd.databricks.v1+cell": {
     "cellMetadata": {
      "byteLimit": 2048000,
      "rowLimit": 10000
     },
     "inputWidgets": {},
     "nuid": "79cfbe8d-9aa0-4312-a15c-e7ec5da72d40",
     "showTitle": false,
     "title": ""
    }
   },
   "outputs": [],
   "source": [
    "df_part2 = spark.read\\\n",
    "    .option(\"header\",\"true\")\\\n",
    "    .option(\"inferschema\",\"true\")\\\n",
    "    .csv(path = \"/FileStore/tables/bucket_by_division/part-00000-tid-8648901029701791816-f57a438f-7dbc-4837-922a-e56ed2616ef1-19-2_00001.c000.csv\")"
   ]
  },
  {
   "cell_type": "code",
   "execution_count": 0,
   "metadata": {
    "application/vnd.databricks.v1+cell": {
     "cellMetadata": {
      "byteLimit": 2048000,
      "rowLimit": 10000
     },
     "inputWidgets": {},
     "nuid": "7063a3d6-9448-4f93-b2d4-0743988ffd63",
     "showTitle": false,
     "title": ""
    }
   },
   "outputs": [
    {
     "output_type": "stream",
     "name": "stdout",
     "output_type": "stream",
     "text": [
      "Out[26]: 35"
     ]
    }
   ],
   "source": [
    "df_part2.count()"
   ]
  },
  {
   "cell_type": "code",
   "execution_count": 0,
   "metadata": {
    "application/vnd.databricks.v1+cell": {
     "cellMetadata": {
      "byteLimit": 2048000,
      "rowLimit": 10000
     },
     "inputWidgets": {},
     "nuid": "aade0067-e79f-4cf0-ac89-c785c7af350e",
     "showTitle": false,
     "title": ""
    }
   },
   "outputs": [
    {
     "output_type": "stream",
     "name": "stdout",
     "output_type": "stream",
     "text": [
      "+--------+---+------+---------+--------+\n|    name|age|gender|  country|emp_type|\n+--------+---+------+---------+--------+\n|    Liam| 46|  Male|    China|employee|\n|   James| 49|Female|   Brazil| manager|\n|     Ava| 35|Female|   Canada|employee|\n|  Sophia| 25|Female|  Germany|employee|\n|     Ava| 23|  Male|   Canada|employee|\n|    Emma| 36|  Male|    Japan| manager|\n|    Emma| 27|Female|       UK| manager|\n|     Ava| 50|  Male|      USA| manager|\n|    Emma| 54|  Male|    China| manager|\n|   James| 43|  Male|       UK|employee|\n|Isabella| 50|Female|  Germany|employee|\n|  Olivia| 52|Female|       UK| manager|\n| William| 21|  Male|   France|employee|\n|    Noah| 28|  Male|Australia| manager|\n|    John| 34|Female|   Brazil| manager|\n| William| 20|Female|   Brazil| manager|\n|    John| 40|Female|    China| manager|\n|    Noah| 46|  Male|       UK| manager|\n|  Olivia| 55|  Male|  Germany| manager|\n|    Noah| 38|  Male|    China|employee|\n+--------+---+------+---------+--------+\nonly showing top 20 rows\n\n"
     ]
    }
   ],
   "source": [
    "df_part1.show()"
   ]
  },
  {
   "cell_type": "code",
   "execution_count": 0,
   "metadata": {
    "application/vnd.databricks.v1+cell": {
     "cellMetadata": {
      "byteLimit": 2048000,
      "rowLimit": 10000
     },
     "inputWidgets": {},
     "nuid": "fc17b7bb-d593-476e-9acf-b4229b824825",
     "showTitle": false,
     "title": ""
    }
   },
   "outputs": [
    {
     "output_type": "stream",
     "name": "stdout",
     "output_type": "stream",
     "text": [
      "+--------+---+------+---------+--------+\n|    name|age|gender|  country|emp_type|\n+--------+---+------+---------+--------+\n|    John| 34|  Male|   Brazil|   admin|\n|Isabella| 38|  Male|    Japan|   admin|\n| William| 43|  Male|    India|   admin|\n|    Noah| 57|  Male|   France|   admin|\n| William| 50|Female|    Japan|   admin|\n|    Liam| 25|Female|    Japan|   admin|\n|    John| 60|  Male|    Japan|   admin|\n|   James| 26|Female|    Japan|   admin|\n|    Liam| 32|  Male|    China|   admin|\n|    John| 56|Female|    China|   admin|\n| William| 30|  Male|    India|   admin|\n| William| 41|Female|   Canada|   admin|\n|  Sophia| 29|  Male|  Germany|   admin|\n|     Ava| 26|Female|   Brazil|   admin|\n|  Sophia| 34|Female|    Japan|   admin|\n| William| 40|Female|    China|   admin|\n|    John| 54|  Male|Australia|   admin|\n|Isabella| 21|Female|   Canada|   admin|\n|  Olivia| 47|Female|   Brazil|   admin|\n|    John| 26|  Male|   France|   admin|\n+--------+---+------+---------+--------+\nonly showing top 20 rows\n\n"
     ]
    }
   ],
   "source": [
    "df_part2.show()"
   ]
  },
  {
   "cell_type": "code",
   "execution_count": 0,
   "metadata": {
    "application/vnd.databricks.v1+cell": {
     "cellMetadata": {},
     "inputWidgets": {},
     "nuid": "e9de9c4d-1026-41ee-8540-a50770951d20",
     "showTitle": false,
     "title": ""
    }
   },
   "outputs": [],
   "source": []
  }
 ],
 "metadata": {
  "application/vnd.databricks.v1+notebook": {
   "dashboards": [],
   "environmentMetadata": null,
   "language": "python",
   "notebookMetadata": {
    "mostRecentlyExecutedCommandWithImplicitDF": {
     "commandId": 2835349014932712,
     "dataframes": [
      "_sqldf"
     ]
    },
    "pythonIndentUnit": 4
   },
   "notebookName": "partition_and_bucketing",
   "widgets": {}
  }
 },
 "nbformat": 4,
 "nbformat_minor": 0
}
