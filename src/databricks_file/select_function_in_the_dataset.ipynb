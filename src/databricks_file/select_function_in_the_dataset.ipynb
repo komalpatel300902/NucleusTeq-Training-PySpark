{
 "cells": [
  {
   "cell_type": "code",
   "execution_count": 0,
   "metadata": {
    "application/vnd.databricks.v1+cell": {
     "cellMetadata": {
      "byteLimit": 2048000,
      "rowLimit": 10000
     },
     "inputWidgets": {},
     "nuid": "be736de4-c119-4593-8a7b-dc05e25d0351",
     "showTitle": false,
     "title": ""
    }
   },
   "outputs": [
    {
     "output_type": "display_data",
     "data": {
      "text/html": [
       "\n",
       "            <div>\n",
       "                <p><b>SparkSession - hive</b></p>\n",
       "                \n",
       "        <div>\n",
       "            <p><b>SparkContext</b></p>\n",
       "\n",
       "            <p><a href=\"/?o=2529029068822991#setting/sparkui/0715-170824-vofijx6i/driver-4020996587950037067\">Spark UI</a></p>\n",
       "\n",
       "            <dl>\n",
       "              <dt>Version</dt>\n",
       "                <dd><code>v3.3.2</code></dd>\n",
       "              <dt>Master</dt>\n",
       "                <dd><code>local[8]</code></dd>\n",
       "              <dt>AppName</dt>\n",
       "                <dd><code>Databricks Shell</code></dd>\n",
       "            </dl>\n",
       "        </div>\n",
       "        \n",
       "            </div>\n",
       "        "
      ]
     },
     "metadata": {
      "application/vnd.databricks.v1+output": {
       "addedWidgets": {},
       "arguments": {},
       "data": "\n            <div>\n                <p><b>SparkSession - hive</b></p>\n                \n        <div>\n            <p><b>SparkContext</b></p>\n\n            <p><a href=\"/?o=2529029068822991#setting/sparkui/0715-170824-vofijx6i/driver-4020996587950037067\">Spark UI</a></p>\n\n            <dl>\n              <dt>Version</dt>\n                <dd><code>v3.3.2</code></dd>\n              <dt>Master</dt>\n                <dd><code>local[8]</code></dd>\n              <dt>AppName</dt>\n                <dd><code>Databricks Shell</code></dd>\n            </dl>\n        </div>\n        \n            </div>\n        ",
       "datasetInfos": [],
       "metadata": {},
       "removedWidgets": [],
       "textData": null,
       "type": "htmlSandbox"
      }
     },
     "output_type": "display_data"
    }
   ],
   "source": [
    "spark"
   ]
  },
  {
   "cell_type": "code",
   "execution_count": 0,
   "metadata": {
    "application/vnd.databricks.v1+cell": {
     "cellMetadata": {
      "byteLimit": 2048000,
      "rowLimit": 10000
     },
     "inputWidgets": {},
     "nuid": "19015204-5ff6-4136-b7c6-7238c267b1fc",
     "showTitle": false,
     "title": ""
    }
   },
   "outputs": [],
   "source": [
    "df = spark.read\\\n",
    "    .option(\"header\",\"true\")\\\n",
    "    .option(\"inferschema\",\"true\")\\\n",
    "    .csv(path = r\"/FileStore/tables/employee_records.csv\")"
   ]
  },
  {
   "cell_type": "code",
   "execution_count": 0,
   "metadata": {
    "application/vnd.databricks.v1+cell": {
     "cellMetadata": {
      "byteLimit": 2048000,
      "rowLimit": 10000
     },
     "inputWidgets": {},
     "nuid": "7782cde9-4ad2-4f1f-a666-d61058d7dcc8",
     "showTitle": false,
     "title": ""
    }
   },
   "outputs": [
    {
     "output_type": "stream",
     "name": "stdout",
     "output_type": "stream",
     "text": [
      "+--------+---+------+---------+--------+\n|    name|age|gender|  country|emp_type|\n+--------+---+------+---------+--------+\n|    John| 34|  Male|   Brazil|   admin|\n|    Liam| 46|  Male|    China|employee|\n|Isabella| 38|  Male|    Japan|   admin|\n| William| 43|  Male|    India|   admin|\n|   James| 49|Female|   Brazil| manager|\n|     Ava| 35|Female|   Canada|employee|\n|    Noah| 57|  Male|   France|   admin|\n|  Sophia| 25|Female|  Germany|employee|\n|     Ava| 23|  Male|   Canada|employee|\n|    Emma| 36|  Male|    Japan| manager|\n|    Emma| 27|Female|       UK| manager|\n|     Ava| 50|  Male|      USA| manager|\n|    Emma| 54|  Male|    China| manager|\n|   James| 43|  Male|       UK|employee|\n|Isabella| 50|Female|  Germany|employee|\n|  Olivia| 52|Female|       UK| manager|\n| William| 50|Female|    Japan|   admin|\n| William| 21|  Male|   France|employee|\n|    Noah| 28|  Male|Australia| manager|\n|    Liam| 25|Female|    Japan|   admin|\n+--------+---+------+---------+--------+\nonly showing top 20 rows\n\n"
     ]
    }
   ],
   "source": [
    "df.show()"
   ]
  },
  {
   "cell_type": "markdown",
   "metadata": {
    "application/vnd.databricks.v1+cell": {
     "cellMetadata": {
      "byteLimit": 2048000,
      "rowLimit": 10000
     },
     "inputWidgets": {},
     "nuid": "a335a0a8-41f0-4617-a85b-446e8cabe209",
     "showTitle": false,
     "title": ""
    }
   },
   "source": [
    "#### Ways to select columns"
   ]
  },
  {
   "cell_type": "code",
   "execution_count": 0,
   "metadata": {
    "application/vnd.databricks.v1+cell": {
     "cellMetadata": {
      "byteLimit": 2048000,
      "rowLimit": 10000
     },
     "inputWidgets": {},
     "nuid": "5dca0ef9-c8eb-40b5-9566-1b4ba5ec038f",
     "showTitle": false,
     "title": ""
    }
   },
   "outputs": [
    {
     "output_type": "stream",
     "name": "stdout",
     "output_type": "stream",
     "text": [
      "+--------+---+---------+------+\n|    name|age|  country|gender|\n+--------+---+---------+------+\n|    John| 34|   Brazil|  Male|\n|    Liam| 46|    China|  Male|\n|Isabella| 38|    Japan|  Male|\n| William| 43|    India|  Male|\n|   James| 49|   Brazil|Female|\n|     Ava| 35|   Canada|Female|\n|    Noah| 57|   France|  Male|\n|  Sophia| 25|  Germany|Female|\n|     Ava| 23|   Canada|  Male|\n|    Emma| 36|    Japan|  Male|\n|    Emma| 27|       UK|Female|\n|     Ava| 50|      USA|  Male|\n|    Emma| 54|    China|  Male|\n|   James| 43|       UK|  Male|\n|Isabella| 50|  Germany|Female|\n|  Olivia| 52|       UK|Female|\n| William| 50|    Japan|Female|\n| William| 21|   France|  Male|\n|    Noah| 28|Australia|  Male|\n|    Liam| 25|    Japan|Female|\n+--------+---+---------+------+\nonly showing top 20 rows\n\n"
     ]
    }
   ],
   "source": [
    "# There are 4 ways to select column \"name\",col(\"age\"),df.country,df[\"gender\"]\n",
    "from pyspark.sql.functions import col\n",
    "df.select(\"name\",col(\"age\"),df.country,df[\"gender\"]).show()"
   ]
  },
  {
   "cell_type": "code",
   "execution_count": 0,
   "metadata": {
    "application/vnd.databricks.v1+cell": {
     "cellMetadata": {
      "byteLimit": 2048000,
      "rowLimit": 10000
     },
     "inputWidgets": {},
     "nuid": "57679507-4ad1-4d75-9943-e320ad741260",
     "showTitle": false,
     "title": ""
    }
   },
   "outputs": [
    {
     "output_type": "stream",
     "name": "stdout",
     "output_type": "stream",
     "text": [
      "Out[11]: Row(name='John', age=34, gender='Male', country='Brazil', emp_type='admin')"
     ]
    }
   ],
   "source": [
    "df.collect()[0]"
   ]
  },
  {
   "cell_type": "markdown",
   "metadata": {
    "application/vnd.databricks.v1+cell": {
     "cellMetadata": {
      "byteLimit": 2048000,
      "rowLimit": 10000
     },
     "inputWidgets": {},
     "nuid": "60f6adf9-04bc-4876-b9c2-9cc2494f862a",
     "showTitle": false,
     "title": ""
    }
   },
   "source": [
    "#### Accessing select and collect"
   ]
  },
  {
   "cell_type": "code",
   "execution_count": 0,
   "metadata": {
    "application/vnd.databricks.v1+cell": {
     "cellMetadata": {
      "byteLimit": 2048000,
      "rowLimit": 10000
     },
     "inputWidgets": {},
     "nuid": "300c61db-22d8-43b2-ae0e-5f33a5d20260",
     "showTitle": false,
     "title": ""
    }
   },
   "outputs": [
    {
     "output_type": "stream",
     "name": "stdout",
     "output_type": "stream",
     "text": [
      "Out[12]: [Row(name='John', age=34, gender='Male', country='Brazil', emp_type='admin'),\n Row(name='Liam', age=46, gender='Male', country='China', emp_type='employee'),\n Row(name='Isabella', age=38, gender='Male', country='Japan', emp_type='admin'),\n Row(name='William', age=43, gender='Male', country='India', emp_type='admin'),\n Row(name='James', age=49, gender='Female', country='Brazil', emp_type='manager'),\n Row(name='Ava', age=35, gender='Female', country='Canada', emp_type='employee'),\n Row(name='Noah', age=57, gender='Male', country='France', emp_type='admin'),\n Row(name='Sophia', age=25, gender='Female', country='Germany', emp_type='employee'),\n Row(name='Ava', age=23, gender='Male', country='Canada', emp_type='employee'),\n Row(name='Emma', age=36, gender='Male', country='Japan', emp_type='manager'),\n Row(name='Emma', age=27, gender='Female', country='UK', emp_type='manager'),\n Row(name='Ava', age=50, gender='Male', country='USA', emp_type='manager'),\n Row(name='Emma', age=54, gender='Male', country='China', emp_type='manager'),\n Row(name='James', age=43, gender='Male', country='UK', emp_type='employee'),\n Row(name='Isabella', age=50, gender='Female', country='Germany', emp_type='employee'),\n Row(name='Olivia', age=52, gender='Female', country='UK', emp_type='manager'),\n Row(name='William', age=50, gender='Female', country='Japan', emp_type='admin'),\n Row(name='William', age=21, gender='Male', country='France', emp_type='employee'),\n Row(name='Noah', age=28, gender='Male', country='Australia', emp_type='manager'),\n Row(name='Liam', age=25, gender='Female', country='Japan', emp_type='admin'),\n Row(name='John', age=34, gender='Female', country='Brazil', emp_type='manager'),\n Row(name='John', age=60, gender='Male', country='Japan', emp_type='admin'),\n Row(name='William', age=20, gender='Female', country='Brazil', emp_type='manager'),\n Row(name='John', age=40, gender='Female', country='China', emp_type='manager'),\n Row(name='Noah', age=46, gender='Male', country='UK', emp_type='manager'),\n Row(name='Olivia', age=55, gender='Male', country='Germany', emp_type='manager'),\n Row(name='Noah', age=38, gender='Male', country='China', emp_type='employee'),\n Row(name='William', age=51, gender='Female', country='China', emp_type='employee'),\n Row(name='Emma', age=39, gender='Male', country='France', emp_type='manager'),\n Row(name='Noah', age=44, gender='Female', country='France', emp_type='employee'),\n Row(name='James', age=26, gender='Female', country='Japan', emp_type='admin'),\n Row(name='Isabella', age=54, gender='Female', country='UK', emp_type='employee'),\n Row(name='Noah', age=48, gender='Male', country='Canada', emp_type='manager'),\n Row(name='Ava', age=26, gender='Male', country='UK', emp_type='manager'),\n Row(name='Ava', age=43, gender='Male', country='India', emp_type='employee'),\n Row(name='Liam', age=32, gender='Male', country='China', emp_type='admin'),\n Row(name='John', age=56, gender='Female', country='China', emp_type='admin'),\n Row(name='Noah', age=52, gender='Male', country='China', emp_type='employee'),\n Row(name='Liam', age=54, gender='Female', country='Brazil', emp_type='manager'),\n Row(name='William', age=30, gender='Male', country='India', emp_type='admin'),\n Row(name='Isabella', age=56, gender='Female', country='Brazil', emp_type='manager'),\n Row(name='Olivia', age=25, gender='Male', country='Brazil', emp_type='employee'),\n Row(name='Emma', age=47, gender='Male', country='Canada', emp_type='manager'),\n Row(name='William', age=41, gender='Female', country='Canada', emp_type='admin'),\n Row(name='William', age=49, gender='Male', country='India', emp_type='employee'),\n Row(name='Emma', age=58, gender='Female', country='Australia', emp_type='manager'),\n Row(name='Ava', age=60, gender='Female', country='France', emp_type='manager'),\n Row(name='Isabella', age=30, gender='Female', country='France', emp_type='employee'),\n Row(name='William', age=35, gender='Female', country='Canada', emp_type='manager'),\n Row(name='Sophia', age=29, gender='Male', country='Germany', emp_type='admin'),\n Row(name='Sophia', age=48, gender='Male', country='USA', emp_type='manager'),\n Row(name='Ava', age=26, gender='Female', country='Brazil', emp_type='admin'),\n Row(name='Sophia', age=42, gender='Male', country='France', emp_type='manager'),\n Row(name='Sophia', age=48, gender='Male', country='France', emp_type='employee'),\n Row(name='Sophia', age=34, gender='Female', country='Japan', emp_type='admin'),\n Row(name='William', age=40, gender='Female', country='China', emp_type='admin'),\n Row(name='Ava', age=55, gender='Male', country='Brazil', emp_type='employee'),\n Row(name='Emma', age=37, gender='Male', country='Australia', emp_type='employee'),\n Row(name='Olivia', age=49, gender='Male', country='Brazil', emp_type='employee'),\n Row(name='William', age=41, gender='Female', country='Germany', emp_type='manager'),\n Row(name='William', age=21, gender='Female', country='Australia', emp_type='manager'),\n Row(name='Olivia', age=59, gender='Male', country='France', emp_type='employee'),\n Row(name='Isabella', age=59, gender='Female', country='Canada', emp_type='employee'),\n Row(name='Emma', age=40, gender='Female', country='India', emp_type='employee'),\n Row(name='John', age=54, gender='Male', country='Australia', emp_type='admin'),\n Row(name='Isabella', age=21, gender='Female', country='Canada', emp_type='admin'),\n Row(name='Emma', age=35, gender='Female', country='France', emp_type='employee'),\n Row(name='Olivia', age=47, gender='Female', country='Brazil', emp_type='admin'),\n Row(name='Olivia', age=59, gender='Female', country='India', emp_type='manager'),\n Row(name='John', age=26, gender='Male', country='France', emp_type='admin'),\n Row(name='James', age=46, gender='Female', country='UK', emp_type='admin'),\n Row(name='Isabella', age=25, gender='Female', country='Japan', emp_type='employee'),\n Row(name='William', age=30, gender='Male', country='Brazil', emp_type='admin'),\n Row(name='Isabella', age=22, gender='Female', country='Germany', emp_type='admin'),\n Row(name='Noah', age=44, gender='Female', country='China', emp_type='admin'),\n Row(name='Olivia', age=39, gender='Female', country='Brazil', emp_type='employee'),\n Row(name='John', age=55, gender='Female', country='China', emp_type='admin'),\n Row(name='Noah', age=32, gender='Male', country='Japan', emp_type='admin'),\n Row(name='Isabella', age=41, gender='Female', country='India', emp_type='admin'),\n Row(name='William', age=57, gender='Female', country='Australia', emp_type='manager'),\n Row(name='James', age=48, gender='Male', country='Germany', emp_type='employee'),\n Row(name='John', age=21, gender='Female', country='France', emp_type='admin'),\n Row(name='William', age=39, gender='Female', country='Brazil', emp_type='admin'),\n Row(name='James', age=30, gender='Female', country='Australia', emp_type='manager'),\n Row(name='Emma', age=45, gender='Female', country='Japan', emp_type='admin'),\n Row(name='William', age=33, gender='Female', country='France', emp_type='manager'),\n Row(name='Liam', age=55, gender='Male', country='Japan', emp_type='employee'),\n Row(name='Olivia', age=58, gender='Female', country='Australia', emp_type='admin'),\n Row(name='Sophia', age=22, gender='Male', country='Germany', emp_type='employee'),\n Row(name='William', age=24, gender='Male', country='India', emp_type='admin'),\n Row(name='Emma', age=49, gender='Male', country='Australia', emp_type='manager'),\n Row(name='Emma', age=26, gender='Female', country='USA', emp_type='manager'),\n Row(name='Ava', age=34, gender='Male', country='India', emp_type='admin'),\n Row(name='Emma', age=53, gender='Female', country='Japan', emp_type='manager'),\n Row(name='Noah', age=37, gender='Female', country='Germany', emp_type='manager'),\n Row(name='William', age=44, gender='Male', country='Japan', emp_type='manager'),\n Row(name='Noah', age=53, gender='Female', country='Canada', emp_type='manager'),\n Row(name='Noah', age=51, gender='Male', country='Canada', emp_type='admin'),\n Row(name='Ava', age=26, gender='Male', country='Brazil', emp_type='employee'),\n Row(name='Olivia', age=30, gender='Female', country='China', emp_type='admin')]"
     ]
    }
   ],
   "source": [
    "df.collect()"
   ]
  },
  {
   "cell_type": "code",
   "execution_count": 0,
   "metadata": {
    "application/vnd.databricks.v1+cell": {
     "cellMetadata": {
      "byteLimit": 2048000,
      "rowLimit": 10000
     },
     "inputWidgets": {},
     "nuid": "ad6006f7-135a-469c-8605-d095d3f49a7c",
     "showTitle": false,
     "title": ""
    }
   },
   "outputs": [
    {
     "output_type": "stream",
     "name": "stdout",
     "output_type": "stream",
     "text": [
      "Out[13]: 'John'"
     ]
    }
   ],
   "source": [
    "#  Accessing individual element from the dataframe\n",
    "df.select(\"name\").collect()[0].name"
   ]
  },
  {
   "cell_type": "markdown",
   "metadata": {
    "application/vnd.databricks.v1+cell": {
     "cellMetadata": {
      "byteLimit": 2048000,
      "rowLimit": 10000
     },
     "inputWidgets": {},
     "nuid": "addc5759-8bde-4e82-869c-d3dbd8300725",
     "showTitle": false,
     "title": ""
    }
   },
   "source": [
    "#### first()\n"
   ]
  },
  {
   "cell_type": "code",
   "execution_count": 0,
   "metadata": {
    "application/vnd.databricks.v1+cell": {
     "cellMetadata": {
      "byteLimit": 2048000,
      "rowLimit": 10000
     },
     "inputWidgets": {},
     "nuid": "3a7f639f-3ed8-4455-8fa8-7c4677fa9451",
     "showTitle": false,
     "title": ""
    }
   },
   "outputs": [
    {
     "output_type": "stream",
     "name": "stdout",
     "output_type": "stream",
     "text": [
      "Out[14]: Row(name='John', age=34, gender='Male', country='Brazil', emp_type='admin')"
     ]
    }
   ],
   "source": [
    "df.first()"
   ]
  },
  {
   "cell_type": "code",
   "execution_count": 0,
   "metadata": {
    "application/vnd.databricks.v1+cell": {
     "cellMetadata": {
      "byteLimit": 2048000,
      "rowLimit": 10000
     },
     "inputWidgets": {},
     "nuid": "e5ee3c75-c7cc-4ce8-b031-234b13265327",
     "showTitle": false,
     "title": ""
    }
   },
   "outputs": [
    {
     "output_type": "stream",
     "name": "stdout",
     "output_type": "stream",
     "text": [
      "Out[15]: 'John'"
     ]
    }
   ],
   "source": [
    "df.first().name"
   ]
  },
  {
   "cell_type": "markdown",
   "metadata": {
    "application/vnd.databricks.v1+cell": {
     "cellMetadata": {
      "byteLimit": 2048000,
      "rowLimit": 10000
     },
     "inputWidgets": {},
     "nuid": "7ae586aa-dbca-4cb6-9c4d-9ca31522c576",
     "showTitle": false,
     "title": ""
    }
   },
   "source": [
    "#### filter((condition1) [ | -> or, & -> and] (condition2))"
   ]
  },
  {
   "cell_type": "code",
   "execution_count": 0,
   "metadata": {
    "application/vnd.databricks.v1+cell": {
     "cellMetadata": {
      "byteLimit": 2048000,
      "rowLimit": 10000
     },
     "inputWidgets": {},
     "nuid": "f11e57bf-4208-402a-9421-02d123f8b134",
     "showTitle": false,
     "title": ""
    }
   },
   "outputs": [
    {
     "output_type": "stream",
     "name": "stdout",
     "output_type": "stream",
     "text": [
      "+----+---+------+---------+--------+\n|name|age|gender|  country|emp_type|\n+----+---+------+---------+--------+\n|Noah| 28|  Male|Australia| manager|\n+----+---+------+---------+--------+\n\n"
     ]
    }
   ],
   "source": [
    "df.filter((col(\"gender\") == \"Male\") & (col(\"age\") == 28) ).show()"
   ]
  },
  {
   "cell_type": "code",
   "execution_count": 0,
   "metadata": {
    "application/vnd.databricks.v1+cell": {
     "cellMetadata": {
      "byteLimit": 2048000,
      "rowLimit": 10000
     },
     "inputWidgets": {},
     "nuid": "887bf464-7efa-4313-9535-1ec065f7235f",
     "showTitle": false,
     "title": ""
    }
   },
   "outputs": [
    {
     "output_type": "stream",
     "name": "stdout",
     "output_type": "stream",
     "text": [
      "+----+---+------+---------+--------+\n|name|age|gender|  country|emp_type|\n+----+---+------+---------+--------+\n|Noah| 28|  Male|Australia| manager|\n+----+---+------+---------+--------+\n\n"
     ]
    }
   ],
   "source": [
    "df.filter((df.gender == \"Male\")&(df.age == 28)).show()"
   ]
  },
  {
   "cell_type": "code",
   "execution_count": 0,
   "metadata": {
    "application/vnd.databricks.v1+cell": {
     "cellMetadata": {
      "byteLimit": 2048000,
      "rowLimit": 10000
     },
     "inputWidgets": {},
     "nuid": "fe5c8b8e-4d43-4403-99f9-471648298b18",
     "showTitle": false,
     "title": ""
    }
   },
   "outputs": [
    {
     "output_type": "stream",
     "name": "stdout",
     "output_type": "stream",
     "text": [
      "+----------+\n|(age > 10)|\n+----------+\n|      true|\n|      true|\n|      true|\n|      true|\n|      true|\n|      true|\n|      true|\n|      true|\n|      true|\n|      true|\n|      true|\n|      true|\n|      true|\n|      true|\n|      true|\n|      true|\n|      true|\n|      true|\n|      true|\n|      true|\n+----------+\nonly showing top 20 rows\n\n"
     ]
    }
   ],
   "source": [
    "df.select(col(\"age\") >10).show()"
   ]
  },
  {
   "cell_type": "code",
   "execution_count": 0,
   "metadata": {
    "application/vnd.databricks.v1+cell": {
     "cellMetadata": {
      "byteLimit": 2048000,
      "rowLimit": 10000
     },
     "inputWidgets": {},
     "nuid": "7444293b-32da-43d6-8fe3-c204a313dc07",
     "showTitle": false,
     "title": ""
    }
   },
   "outputs": [
    {
     "output_type": "stream",
     "name": "stdout",
     "output_type": "stream",
     "text": [
      "+-----------+\n|(age + 100)|\n+-----------+\n|        134|\n|        146|\n|        138|\n|        143|\n|        149|\n|        135|\n|        157|\n|        125|\n|        123|\n|        136|\n|        127|\n|        150|\n|        154|\n|        143|\n|        150|\n|        152|\n|        150|\n|        121|\n|        128|\n|        125|\n+-----------+\nonly showing top 20 rows\n\n"
     ]
    }
   ],
   "source": [
    "df.select(col(\"age\")+100).show()"
   ]
  },
  {
   "cell_type": "markdown",
   "metadata": {
    "application/vnd.databricks.v1+cell": {
     "cellMetadata": {},
     "inputWidgets": {},
     "nuid": "d2e16d90-b9ba-4818-8b33-2f5aa6cbc9e8",
     "showTitle": false,
     "title": ""
    }
   },
   "source": [
    "#### using expr\n"
   ]
  },
  {
   "cell_type": "code",
   "execution_count": 0,
   "metadata": {
    "application/vnd.databricks.v1+cell": {
     "cellMetadata": {
      "byteLimit": 2048000,
      "rowLimit": 10000
     },
     "inputWidgets": {},
     "nuid": "c4b9f5b7-e68e-423f-b27a-34f8a1418468",
     "showTitle": false,
     "title": ""
    }
   },
   "outputs": [
    {
     "output_type": "stream",
     "name": "stdout",
     "output_type": "stream",
     "text": [
      "+---+-------+--------+---------------+\n|age|emp_age|emp_name|         detail|\n+---+-------+--------+---------------+\n|534|     34|    John|     JohnBrazil|\n|546|     46|    Liam|      LiamChina|\n|538|     38|Isabella|  IsabellaJapan|\n|543|     43| William|   WilliamIndia|\n|549|     49|   James|    JamesBrazil|\n|535|     35|     Ava|      AvaCanada|\n|557|     57|    Noah|     NoahFrance|\n|525|     25|  Sophia|  SophiaGermany|\n|523|     23|     Ava|      AvaCanada|\n|536|     36|    Emma|      EmmaJapan|\n|527|     27|    Emma|         EmmaUK|\n|550|     50|     Ava|         AvaUSA|\n|554|     54|    Emma|      EmmaChina|\n|543|     43|   James|        JamesUK|\n|550|     50|Isabella|IsabellaGermany|\n|552|     52|  Olivia|       OliviaUK|\n|550|     50| William|   WilliamJapan|\n|521|     21| William|  WilliamFrance|\n|528|     28|    Noah|  NoahAustralia|\n|525|     25|    Liam|      LiamJapan|\n+---+-------+--------+---------------+\nonly showing top 20 rows\n\n"
     ]
    }
   ],
   "source": [
    "from pyspark.sql.functions import expr\n",
    "df.select(expr(\"(age+500) as age\"),expr(\"age as emp_age\"),expr(\"name as emp_name\"), expr(\"concat(name,country) as detail\")).show()"
   ]
  },
  {
   "cell_type": "code",
   "execution_count": 0,
   "metadata": {
    "application/vnd.databricks.v1+cell": {
     "cellMetadata": {},
     "inputWidgets": {},
     "nuid": "d21080bf-b704-4ace-95cf-509277b7cd2f",
     "showTitle": false,
     "title": ""
    }
   },
   "outputs": [],
   "source": []
  }
 ],
 "metadata": {
  "application/vnd.databricks.v1+notebook": {
   "dashboards": [],
   "environmentMetadata": null,
   "language": "python",
   "notebookMetadata": {
    "pythonIndentUnit": 4
   },
   "notebookName": "select_function_in_the_dataset",
   "widgets": {}
  }
 },
 "nbformat": 4,
 "nbformat_minor": 0
}
