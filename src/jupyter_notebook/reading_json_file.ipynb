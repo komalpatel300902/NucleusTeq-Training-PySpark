{
 "cells": [
  {
   "cell_type": "markdown",
   "id": "c92295ac",
   "metadata": {},
   "source": [
    "### Reading a line delimiter json file"
   ]
  },
  {
   "cell_type": "code",
   "execution_count": 2,
   "id": "3b560497",
   "metadata": {},
   "outputs": [],
   "source": [
    "from pyspark.sql import SparkSession"
   ]
  },
  {
   "cell_type": "code",
   "execution_count": 6,
   "id": "35a7ed61",
   "metadata": {},
   "outputs": [],
   "source": [
    "spark = SparkSession.builder\\\n",
    ".appName(\"My App\")\\\n",
    ".getOrCreate()"
   ]
  },
  {
   "cell_type": "code",
   "execution_count": 12,
   "id": "4f9cddd8",
   "metadata": {},
   "outputs": [],
   "source": [
    "df = spark.read\\\n",
    ".option(\"header\",\"ture\")\\\n",
    ".option(\"inferschema\",\"ture\")\\\n",
    ".json(path = r\"F:\\Git\\NucleusTeq Training PySpark\\dataset\\json\\line_delimited_file.jsonl\")"
   ]
  },
  {
   "cell_type": "code",
   "execution_count": 13,
   "id": "2949bd2e",
   "metadata": {},
   "outputs": [
    {
     "name": "stdout",
     "output_type": "stream",
     "text": [
      "+---+-------------+-------+\n",
      "|age|         city|   name|\n",
      "+---+-------------+-------+\n",
      "| 30|     New York|  Alice|\n",
      "| 25|San Francisco|    Bob|\n",
      "| 35|      Chicago|Charlie|\n",
      "| 28|  Los Angeles|  David|\n",
      "| 32|      Seattle|    Eva|\n",
      "| 40|       Boston|  Frank|\n",
      "| 22|      Houston|  Grace|\n",
      "| 27|        Miami| Hannah|\n",
      "| 31|       Denver|    Ian|\n",
      "| 29|      Atlanta|   Jack|\n",
      "+---+-------------+-------+\n",
      "\n"
     ]
    }
   ],
   "source": [
    "df.show()"
   ]
  },
  {
   "cell_type": "markdown",
   "id": "77faafa5",
   "metadata": {},
   "source": [
    "### Reading Multiline Json file"
   ]
  },
  {
   "cell_type": "code",
   "execution_count": 15,
   "id": "e5e2dda0",
   "metadata": {},
   "outputs": [],
   "source": [
    "df = spark.read\\\n",
    ".option(\"header\",\"ture\")\\\n",
    ".option(\"inferschema\",\"true\")\\\n",
    ".json(path = r\"F:\\Git\\NucleusTeq Training PySpark\\dataset\\json\\multiline_file.json\", multiLine = True)"
   ]
  },
  {
   "cell_type": "code",
   "execution_count": 16,
   "id": "2994d91f",
   "metadata": {},
   "outputs": [
    {
     "name": "stdout",
     "output_type": "stream",
     "text": [
      "+---+-------------+-------+\n",
      "|age|         city|   name|\n",
      "+---+-------------+-------+\n",
      "| 30|     New York|  Alice|\n",
      "| 25|San Francisco|    Bob|\n",
      "| 35|      Chicago|Charlie|\n",
      "| 28|  Los Angeles|  David|\n",
      "| 32|      Seattle|    Eva|\n",
      "| 40|       Boston|  Frank|\n",
      "| 22|      Houston|  Grace|\n",
      "| 27|        Miami| Hannah|\n",
      "| 31|       Denver|    Ian|\n",
      "| 29|      Atlanta|   Jack|\n",
      "+---+-------------+-------+\n",
      "\n"
     ]
    }
   ],
   "source": [
    "df.show()"
   ]
  },
  {
   "cell_type": "markdown",
   "id": "91f35837",
   "metadata": {},
   "source": [
    "### What if a Json file has extra field in some records"
   ]
  },
  {
   "cell_type": "code",
   "execution_count": 19,
   "id": "e7347374",
   "metadata": {},
   "outputs": [],
   "source": [
    "df  = spark.read\\\n",
    ".option(\"header\",\"ture\")\\\n",
    ".option(\"inferschema\",\"true\")\\\n",
    ".json(path = r\"F:\\Git\\NucleusTeq Training PySpark\\dataset\\json\\extra_key_in_one_record.jsonl\")"
   ]
  },
  {
   "cell_type": "code",
   "execution_count": 21,
   "id": "4ff5c4ca",
   "metadata": {},
   "outputs": [
    {
     "name": "stdout",
     "output_type": "stream",
     "text": [
      "+------+---+-------------+-----------------+-------+\n",
      "|Father|age|         city|            email|   name|\n",
      "+------+---+-------------+-----------------+-------+\n",
      "|  NULL| 30|     New York|             NULL|  Alice|\n",
      "|  NULL| 25|San Francisco|             NULL|    Bob|\n",
      "|  NULL| 35|      Chicago|             NULL|Charlie|\n",
      "|  NULL| 28|  Los Angeles|david@example.com|  David|\n",
      "|  NULL| 32|      Seattle|             NULL|    Eva|\n",
      "|  NULL| 40|       Boston|             NULL|  Frank|\n",
      "|  NULL| 22|      Houston|             NULL|  Grace|\n",
      "|  NULL| 27|        Miami|             NULL| Hannah|\n",
      "|  Alex| 31|       Denver|             NULL|    Ian|\n",
      "|  NULL| 29|      Atlanta|             NULL|   Jack|\n",
      "+------+---+-------------+-----------------+-------+\n",
      "\n"
     ]
    }
   ],
   "source": [
    "df.show()\n",
    "# There will be extra column added by spark for that field"
   ]
  },
  {
   "cell_type": "markdown",
   "id": "70bcb49c",
   "metadata": {},
   "source": [
    "### Working with corrupted JSON File"
   ]
  },
  {
   "cell_type": "markdown",
   "id": "dc5a1000",
   "metadata": {},
   "source": [
    "The Below Json file is LDJSON "
   ]
  },
  {
   "cell_type": "code",
   "execution_count": 61,
   "id": "704c7148",
   "metadata": {},
   "outputs": [
    {
     "name": "stdout",
     "output_type": "stream",
     "text": [
      "+--------------------+----+-------------+---------------+-------+\n",
      "|     _corrupt_record| age|         city|          email|   name|\n",
      "+--------------------+----+-------------+---------------+-------+\n",
      "|                NULL|  30|     New York|           NULL|  Alice|\n",
      "|                NULL|  25|San Francisco|           NULL|    Bob|\n",
      "|                NULL|  35|      Chicago|           NULL|Charlie|\n",
      "|                NULL|  28|  Los Angeles|           NULL|  David|\n",
      "|                NULL|  32|      Seattle|eva@example.com|    Eva|\n",
      "|{\"name\": \"Frank\",...|NULL|         NULL|           NULL|   NULL|\n",
      "|                NULL|  22|      Houston|           NULL|  Grace|\n",
      "|                NULL|  27|        Miami|           NULL| Hannah|\n",
      "|                NULL|  31|       Denver|           NULL|    Ian|\n",
      "|{\"name\": \"Jack\", ...|NULL|         NULL|           NULL|   NULL|\n",
      "+--------------------+----+-------------+---------------+-------+\n",
      "\n"
     ]
    }
   ],
   "source": [
    "spark.read\\\n",
    ".format(\"json\")\\\n",
    ".option(\"mode\",\"PERMISSIVE\")\\\n",
    ".option(\"inferschema\",\"true\")\\\n",
    ".load(path = r\"F:\\Git\\NucleusTeq Training PySpark\\dataset\\json\\corrupt_jsonl_file.jsonl\").show()"
   ]
  },
  {
   "cell_type": "markdown",
   "id": "484130d5",
   "metadata": {},
   "source": [
    "### Reading Nested JSON file\n"
   ]
  },
  {
   "cell_type": "code",
   "execution_count": 65,
   "id": "ce503970",
   "metadata": {},
   "outputs": [],
   "source": [
    "df = spark.read\\\n",
    ".option(\"inferschema\",\"true\")\\\n",
    ".option(\"header\",\"true\")\\\n",
    ".json(path = r\"F:\\Git\\NucleusTeq Training PySpark\\dataset\\json\\nested_json.json\", multiLine = True)"
   ]
  },
  {
   "cell_type": "code",
   "execution_count": 68,
   "id": "b9ac030f",
   "metadata": {},
   "outputs": [
    {
     "name": "stdout",
     "output_type": "stream",
     "text": [
      "+---------------------------------------------------------------------+----------------------------------------------------------------------------------------------------------------------------------------------------------------------------------------------------------------------------------------------------------------------+\n",
      "|company                                                              |employees                                                                                                                                                                                                                                                             |\n",
      "+---------------------------------------------------------------------+----------------------------------------------------------------------------------------------------------------------------------------------------------------------------------------------------------------------------------------------------------------------+\n",
      "|{[{San Francisco, 50}, {Austin, 30}], 2010, New York, Tech Solutions}|[{30, Engineering, Alice, [{2023-12-01, Project A, completed}, {2024-05-15, Project B, in progress}]}, {25, Marketing, Bob, [{2023-11-20, Project C, completed}]}, {35, Sales, Charlie, [{2024-06-30, Project D, not started}, {2024-02-28, Project E, in progress}]}]|\n",
      "+---------------------------------------------------------------------+----------------------------------------------------------------------------------------------------------------------------------------------------------------------------------------------------------------------------------------------------------------------+\n",
      "\n"
     ]
    }
   ],
   "source": [
    "df.show(truncate = False)"
   ]
  },
  {
   "cell_type": "code",
   "execution_count": null,
   "id": "ab01a235",
   "metadata": {},
   "outputs": [],
   "source": []
  }
 ],
 "metadata": {
  "kernelspec": {
   "display_name": "Python 3 (ipykernel)",
   "language": "python",
   "name": "python3"
  },
  "language_info": {
   "codemirror_mode": {
    "name": "ipython",
    "version": 3
   },
   "file_extension": ".py",
   "mimetype": "text/x-python",
   "name": "python",
   "nbconvert_exporter": "python",
   "pygments_lexer": "ipython3",
   "version": "3.11.5"
  }
 },
 "nbformat": 4,
 "nbformat_minor": 5
}
